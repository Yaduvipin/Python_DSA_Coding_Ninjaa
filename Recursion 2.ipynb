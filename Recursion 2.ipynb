{
 "cells": [
  {
   "cell_type": "markdown",
   "id": "5b4ea165",
   "metadata": {},
   "source": [
    "# 1. Recursion With Strings & Replace Pi"
   ]
  },
  {
   "cell_type": "code",
   "execution_count": 6,
   "id": "d1955950",
   "metadata": {},
   "outputs": [],
   "source": [
    "def ReplaceString(s,a,b):\n",
    "    l=len(s)\n",
    "    if l==0:\n",
    "        return s\n",
    "    smalleroutput = ReplaceString(s[1:],a,b)\n",
    "    if s[0]==a:\n",
    "        return b+smalleroutput\n",
    "    else:\n",
    "        return s[0]+smalleroutput\n",
    "    "
   ]
  },
  {
   "cell_type": "code",
   "execution_count": 7,
   "id": "6da6fe2b",
   "metadata": {},
   "outputs": [
    {
     "data": {
      "text/plain": [
       "'bbbb'"
      ]
     },
     "execution_count": 7,
     "metadata": {},
     "output_type": "execute_result"
    }
   ],
   "source": [
    "ReplaceString('abab',\"a\",\"b\")"
   ]
  },
  {
   "cell_type": "code",
   "execution_count": 8,
   "id": "5b60b349",
   "metadata": {},
   "outputs": [
    {
     "data": {
      "text/plain": [
       "'bbbb'"
      ]
     },
     "execution_count": 8,
     "metadata": {},
     "output_type": "execute_result"
    }
   ],
   "source": [
    "ReplaceString('aaab',\"a\",\"b\")"
   ]
  },
  {
   "cell_type": "code",
   "execution_count": 9,
   "id": "9255e32e",
   "metadata": {},
   "outputs": [
    {
     "data": {
      "text/plain": [
       "'bbbbbb'"
      ]
     },
     "execution_count": 9,
     "metadata": {},
     "output_type": "execute_result"
    }
   ],
   "source": [
    "ReplaceString('bbabaa',\"a\",\"b\")"
   ]
  },
  {
   "cell_type": "code",
   "execution_count": 10,
   "id": "68a8660b",
   "metadata": {},
   "outputs": [],
   "source": [
    "def Replacepi(s):\n",
    "    l=len(s)\n",
    "    if len(s)==0 or len(s)==1:\n",
    "        return s\n",
    "    \n",
    "    if s[0]=='p' or s[1]=='i':\n",
    "        smalloutput = Replacepi(s[2:])\n",
    "        return '3.14'+smalloutput\n",
    "    else:\n",
    "        smalloutput=Replacepi(s[1:])\n",
    "        return s[0]+smalloutput\n",
    "        \n",
    "    "
   ]
  },
  {
   "cell_type": "code",
   "execution_count": 11,
   "id": "5f6df473",
   "metadata": {},
   "outputs": [
    {
     "data": {
      "text/plain": [
       "'abc3.143.143.14'"
      ]
     },
     "execution_count": 11,
     "metadata": {},
     "output_type": "execute_result"
    }
   ],
   "source": [
    "Replacepi('abcpipipi')"
   ]
  },
  {
   "cell_type": "code",
   "execution_count": 12,
   "id": "8f30be76",
   "metadata": {},
   "outputs": [
    {
     "data": {
      "text/plain": [
       "'3.143.143.14ABC'"
      ]
     },
     "execution_count": 12,
     "metadata": {},
     "output_type": "execute_result"
    }
   ],
   "source": [
    "Replacepi('pipipiABC')"
   ]
  },
  {
   "cell_type": "markdown",
   "id": "a2a797cf",
   "metadata": {},
   "source": [
    "# 2. Binary Search Using Recursion"
   ]
  },
  {
   "cell_type": "code",
   "execution_count": 13,
   "id": "7bd8b715",
   "metadata": {},
   "outputs": [],
   "source": [
    "def BinarySearch(a,x,si,ei):  ### si=start index ei = end index ###\n",
    "    if si>ei:\n",
    "        return -1                  \n",
    "    \n",
    "    mid = (si+ei)//2\n",
    "    if a[mid]==x:\n",
    "        return mid\n",
    "    elif a[mid]>x:\n",
    "        return BinarySearch(a,x,si,mid-1)\n",
    "    else:\n",
    "        return BinarySearch(a,x,mid+1,ei) \n",
    "    \n",
    "    "
   ]
  },
  {
   "cell_type": "code",
   "execution_count": 14,
   "id": "554271ae",
   "metadata": {},
   "outputs": [
    {
     "data": {
      "text/plain": [
       "3"
      ]
     },
     "execution_count": 14,
     "metadata": {},
     "output_type": "execute_result"
    }
   ],
   "source": [
    "BinarySearch([1,3,4,5,6,7,8,9,11],5,0,8)   ### Index of 5 is 3(answer)"
   ]
  },
  {
   "cell_type": "code",
   "execution_count": 15,
   "id": "aead64b7",
   "metadata": {},
   "outputs": [
    {
     "data": {
      "text/plain": [
       "2"
      ]
     },
     "execution_count": 15,
     "metadata": {},
     "output_type": "execute_result"
    }
   ],
   "source": [
    "BinarySearch([1,3,4,5,6,7,8,9,11],4,0,8)"
   ]
  },
  {
   "cell_type": "code",
   "execution_count": 16,
   "id": "4bbcaac9",
   "metadata": {},
   "outputs": [
    {
     "data": {
      "text/plain": [
       "6"
      ]
     },
     "execution_count": 16,
     "metadata": {},
     "output_type": "execute_result"
    }
   ],
   "source": [
    "BinarySearch([1,3,4,5,6,7,8,9,11],8,0,8)"
   ]
  },
  {
   "cell_type": "markdown",
   "id": "216ac4b4",
   "metadata": {},
   "source": [
    "# 3. Merge Sort"
   ]
  },
  {
   "cell_type": "code",
   "execution_count": null,
   "id": "8b4fcd28",
   "metadata": {},
   "outputs": [],
   "source": []
  },
  {
   "cell_type": "code",
   "execution_count": 28,
   "id": "4d9921d4",
   "metadata": {},
   "outputs": [],
   "source": [
    "def merge(a1,a2,a):\n",
    "    i =0\n",
    "    j =0\n",
    "    k =0\n",
    "    while i<len(a1) and j<len(a2):\n",
    "        if a1[i] <a2[j]:\n",
    "            a[k]=a1[i]\n",
    "            k = k+1\n",
    "            i = i+1\n",
    "        else:\n",
    "            a[k]= a2[j]\n",
    "            k = k+1\n",
    "            j = j+1\n",
    "    while i<len(a1):\n",
    "        a[k]= a1[i]\n",
    "        k = k+1\n",
    "        i = i+1\n",
    "    while j<len(a2):\n",
    "        a[k] =a2[j]\n",
    "        k=k+1\n",
    "        j=j+1"
   ]
  },
  {
   "cell_type": "code",
   "execution_count": 29,
   "id": "647beef6",
   "metadata": {},
   "outputs": [],
   "source": [
    "def mergeSort(a):\n",
    "    if len(a) ==0 or len(a)==1:\n",
    "        return\n",
    "    \n",
    "    mid =len(a)//2\n",
    "    \n",
    "    a1 = a[0:mid]\n",
    "    a2 = a[mid:]\n",
    "    \n",
    "    mergeSort(a1)\n",
    "    mergeSort(a2)\n",
    "    \n",
    "    merge(a1,a2,a)"
   ]
  },
  {
   "cell_type": "code",
   "execution_count": 30,
   "id": "420630d1",
   "metadata": {},
   "outputs": [
    {
     "data": {
      "text/plain": [
       "[1, 3, 4, 5, 7, 9, 10]"
      ]
     },
     "execution_count": 30,
     "metadata": {},
     "output_type": "execute_result"
    }
   ],
   "source": [
    "a = [10,5,3,1,7,9,4]\n",
    "mergeSort(a)\n",
    "a"
   ]
  },
  {
   "cell_type": "markdown",
   "id": "ff5c2542",
   "metadata": {},
   "source": [
    "# 4. Quick Sort Code"
   ]
  },
  {
   "cell_type": "code",
   "execution_count": 31,
   "id": "2948210b",
   "metadata": {},
   "outputs": [],
   "source": [
    "def partition(a,si,ei):\n",
    "    pivot = a[si]\n",
    "    #find no. of element smalller tyhan pivot\n",
    "    \n",
    "    c=0\n",
    "    for i in range(si,ei+1):\n",
    "        if a[i]<pivot:\n",
    "            c=c+1\n",
    "    a[si+c],a[si]=a[si],a[si+c]\n",
    "    pivot_index = si+c\n",
    "    \n",
    "    i =si\n",
    "    j = ei\n",
    "    \n",
    "    while i<j:\n",
    "        if a[i]<pivot:\n",
    "            i = i+1\n",
    "        elif a[j]>=pivot:\n",
    "            j = j-1\n",
    "        else:\n",
    "            a[i],a[j]=a[j],a[i]\n",
    "            i = i+1\n",
    "            j = j-1\n",
    "    return pivot_index"
   ]
  },
  {
   "cell_type": "code",
   "execution_count": 32,
   "id": "812d5396",
   "metadata": {},
   "outputs": [],
   "source": [
    "def quick_sort(a,si,ei):\n",
    "    if si>=ei:\n",
    "        return\n",
    "    pivot_index = partition(a,si,ei)\n",
    "    quick_sort(a,si,pivot_index-1)\n",
    "    quick_sort(a,pivot_index+1,ei)"
   ]
  },
  {
   "cell_type": "code",
   "execution_count": 33,
   "id": "7852ce54",
   "metadata": {},
   "outputs": [
    {
     "data": {
      "text/plain": [
       "5"
      ]
     },
     "execution_count": 33,
     "metadata": {},
     "output_type": "execute_result"
    }
   ],
   "source": [
    "a = [6,10,9,8,7,1,3,5,4,2]\n",
    "partition(a,0,len(a)-1) "
   ]
  },
  {
   "cell_type": "code",
   "execution_count": 34,
   "id": "ba97cbb1",
   "metadata": {},
   "outputs": [
    {
     "data": {
      "text/plain": [
       "[1, 2, 3, 4, 5, 6, 7, 8, 9, 10]"
      ]
     },
     "execution_count": 34,
     "metadata": {},
     "output_type": "execute_result"
    }
   ],
   "source": [
    "a = [6,10,9,8,7,1,3,5,4,2]\n",
    "quick_sort(a,0,len(a)-1)\n",
    "a\n"
   ]
  },
  {
   "cell_type": "code",
   "execution_count": 35,
   "id": "6ac638cd",
   "metadata": {},
   "outputs": [
    {
     "name": "stdout",
     "output_type": "stream",
     "text": [
      "5\n",
      "6 3 2 7 8\n",
      "2 3 6 7 8\n"
     ]
    }
   ],
   "source": [
    "def partition(a,si,ei):\n",
    "    pivot = a[si]\n",
    "    #find no. of element smalller than pivot\n",
    "    \n",
    "    c=0\n",
    "    for i in range(si,ei+1):\n",
    "        if a[i]<pivot:\n",
    "            c=c+1\n",
    "    a[si+c],a[si]=a[si],a[si+c]\n",
    "    pivot_index = si+c\n",
    "    \n",
    "    i =si\n",
    "    j = ei\n",
    "    \n",
    "    while i<j:\n",
    "        if a[i]<pivot:\n",
    "            i = i+1\n",
    "        elif a[j]>=pivot:\n",
    "            j = j-1\n",
    "        else:\n",
    "            a[i],a[j]=a[j],a[i]\n",
    "            i = i+1\n",
    "            j = j-1\n",
    "    return pivot_index\n",
    "\n",
    "def quick_sort(a,si,ei):\n",
    "    if si>=ei:\n",
    "        return\n",
    "    pivot_index = partition(a,si,ei)\n",
    "    quick_sort(a,si,pivot_index-1)\n",
    "    quick_sort(a,pivot_index+1,ei)\n",
    "    \n",
    "    \n",
    "n=int(input())\n",
    "a=list(int(i) for i in input().strip().split(' '))\n",
    "quick_sort(a,0,len(a)-1)\n",
    "print(*a)"
   ]
  },
  {
   "cell_type": "markdown",
   "id": "6c24247b",
   "metadata": {},
   "source": [
    "# 5. Tower of Hanoi"
   ]
  },
  {
   "cell_type": "code",
   "execution_count": 37,
   "id": "f9c62864",
   "metadata": {},
   "outputs": [],
   "source": [
    "def tower_hanoi(n,a,b,c):\n",
    "    if n ==1:\n",
    "        print(\"move 1st disk from\",a,\"to\",c)\n",
    "        return\n",
    "    tower_hanoi(n-1,a,c,b)\n",
    "    print(\"move\",n,\"th disk from\",a,\"to\",c) \n",
    "    tower_hanoi(n-1,b,a,c)"
   ]
  },
  {
   "cell_type": "code",
   "execution_count": 38,
   "id": "7223f75b",
   "metadata": {},
   "outputs": [
    {
     "name": "stdout",
     "output_type": "stream",
     "text": [
      "move 1st disk from s to h\n",
      "move 2 th disk from s to d\n",
      "move 1st disk from h to d\n"
     ]
    }
   ],
   "source": [
    "tower_hanoi(2,'s','h','d')"
   ]
  },
  {
   "cell_type": "code",
   "execution_count": 40,
   "id": "cca20fe5",
   "metadata": {},
   "outputs": [
    {
     "name": "stdout",
     "output_type": "stream",
     "text": [
      "move 1st disk from A to C\n",
      "move 2 th disk from A to B\n",
      "move 1st disk from C to B\n",
      "move 3 th disk from A to C\n",
      "move 1st disk from B to A\n",
      "move 2 th disk from B to C\n",
      "move 1st disk from A to C\n"
     ]
    }
   ],
   "source": [
    "tower_hanoi(3,'A','B','C')"
   ]
  },
  {
   "cell_type": "markdown",
   "id": "0c5dd508",
   "metadata": {},
   "source": [
    "# Assignment (2)"
   ]
  },
  {
   "cell_type": "markdown",
   "id": "dd24c066",
   "metadata": {},
   "source": [
    "# 1.Remove X"
   ]
  },
  {
   "cell_type": "code",
   "execution_count": 2,
   "id": "21f3231f",
   "metadata": {},
   "outputs": [
    {
     "name": "stdout",
     "output_type": "stream",
     "text": [
      "xxacaa\n",
      "acaa\n"
     ]
    }
   ],
   "source": [
    "def removeX(s):\n",
    "    chr = 'x'\n",
    "    l = len(s)\n",
    "    if len(s) == 0:\n",
    "        return s\n",
    "    smalleroutput = removeX(s[1:])\n",
    "    if s[0] == chr :\n",
    "        return ''+smalleroutput\n",
    "    else:\n",
    "        return s[0]+smalleroutput\n",
    "    \n",
    "string = input()\n",
    "print(removeX(string))"
   ]
  },
  {
   "cell_type": "code",
   "execution_count": 1,
   "id": "a30cb2cb",
   "metadata": {},
   "outputs": [
    {
     "name": "stdout",
     "output_type": "stream",
     "text": [
      "gksforgks\n"
     ]
    }
   ],
   "source": [
    "# Python3 program for the above approach\n",
    " \n",
    "# Function to remove all occurrences\n",
    "# of a character in the string\n",
    "def removeCharRecursive(str, X):\n",
    "     \n",
    "    # Base Case\n",
    "    if (len(str) == 0):\n",
    "        return \"\"\n",
    "     \n",
    "    # Check the first character\n",
    "    # of the given string\n",
    "    if (str[0] == X):\n",
    " \n",
    "        # Pass the rest of the string\n",
    "        # to recursion Function call\n",
    "        return removeCharRecursive(str[1:], X)\n",
    "     \n",
    "    # Add the first character of str\n",
    "    # and string from recursion\n",
    "    return str[0] + removeCharRecursive(str[1:], X)\n",
    " \n",
    "# Driver Code\n",
    " \n",
    "# Given String\n",
    "str = \"geeksforgeeks\"\n",
    " \n",
    "# Given character\n",
    "X = 'e'\n",
    " \n",
    "# Function call\n",
    "str = removeCharRecursive(str, X)\n",
    " \n",
    "print(str)\n",
    " \n",
    "# This code is contributed by sanjoy_62"
   ]
  },
  {
   "cell_type": "markdown",
   "id": "bb575154",
   "metadata": {},
   "source": [
    "# 2.Remove Duplicates Recursively"
   ]
  },
  {
   "cell_type": "code",
   "execution_count": 4,
   "id": "240a65c1",
   "metadata": {},
   "outputs": [
    {
     "name": "stdout",
     "output_type": "stream",
     "text": [
      "AARON\n",
      "ARON\n"
     ]
    }
   ],
   "source": [
    "def removecoonsecutiveDuplicates(s):\n",
    "    l=len(s)\n",
    "    if len(s)<=1:\n",
    "        return s\n",
    "    smalleroutput=removecoonsecutiveDuplicates(s[1:])\n",
    "    if s[0]==s[1]:\n",
    "        return smalleroutput\n",
    "    else:\n",
    "        return s[0]+smalleroutput\n",
    "    \n",
    "string = input().strip()\n",
    "print(removecoonsecutiveDuplicates(string))"
   ]
  },
  {
   "cell_type": "markdown",
   "id": "6df00536",
   "metadata": {},
   "source": [
    "# 3.Merge Sort Code"
   ]
  },
  {
   "cell_type": "code",
   "execution_count": 8,
   "id": "912286f0",
   "metadata": {},
   "outputs": [
    {
     "name": "stdout",
     "output_type": "stream",
     "text": [
      "8\n",
      "1 4 2 3 0 23\n",
      "0 1 2 3 4 23\n"
     ]
    }
   ],
   "source": [
    "def merge(a1,a2,a):\n",
    "    i=0\n",
    "    j=0\n",
    "    k=0\n",
    "    while i<len(a1) and j<len(a2):\n",
    "        if a1[i]<a2[j]:\n",
    "            a[k]=a1[i]\n",
    "            k=k+1\n",
    "            i=i+1\n",
    "        else:\n",
    "            a[k]=a2[j]\n",
    "            k=k+1\n",
    "            j=j+1\n",
    "            \n",
    "            \n",
    "    while i < len(a1):\n",
    "        a[k] = a1[i]\n",
    "        k = k + 1\n",
    "        i = i + 1\n",
    "\n",
    "    while j < len(a2):\n",
    "        a[k] = a2[j]\n",
    "        k = k + 1\n",
    "        j = j + 1\n",
    "        \n",
    "\n",
    "        \n",
    "def MergeSort(a):\n",
    "    if len(a) == 0 or len(a) == 1:\n",
    "        return\n",
    "\n",
    "    mid = len(a) // 2\n",
    "\n",
    "    a1 = a[:mid]\n",
    "    a2 = a[mid:]\n",
    "\n",
    "    MergeSort(a1)\n",
    "    MergeSort(a2)\n",
    "\n",
    "    merge(a1, a2, a)\n",
    "# a = [5,2,45,12,3,6,52,41,25]\n",
    "\n",
    "\n",
    "n=int(input())\n",
    "a=list(int(i) for i in input().strip().split(' '))\n",
    "MergeSort(a)\n",
    "print(*a)"
   ]
  },
  {
   "cell_type": "markdown",
   "id": "013b1058",
   "metadata": {},
   "source": [
    "# 4.Quick Sort Code"
   ]
  },
  {
   "cell_type": "code",
   "execution_count": 9,
   "id": "7f8018be",
   "metadata": {},
   "outputs": [
    {
     "name": "stdout",
     "output_type": "stream",
     "text": [
      "6\n",
      "2 6 8 5 4 3\n",
      "[2, 3, 4, 5, 6, 8]\n"
     ]
    }
   ],
   "source": [
    "def partition(a,si,ei):\n",
    "    pivot = a[si]\n",
    "    #find no. of element smalller than pivot\n",
    "    \n",
    "    c=0\n",
    "    for i in range(si,ei+1):\n",
    "        if a[i]<pivot:\n",
    "            c=c+1\n",
    "    a[si+c],a[si]=a[si],a[si+c]\n",
    "    pivot_index = si+c\n",
    "    \n",
    "    i =si\n",
    "    j = ei\n",
    "    \n",
    "    while i<j:\n",
    "        if a[i]<pivot:\n",
    "            i = i+1\n",
    "        elif a[j]>=pivot:\n",
    "            j = j-1\n",
    "        else:\n",
    "            a[i],a[j]=a[j],a[i]\n",
    "            i = i+1\n",
    "            j = j-1\n",
    "    return pivot_index\n",
    "\n",
    "def quick_sort(a,si,ei):\n",
    "    if si>=ei:\n",
    "        return\n",
    "    pivot_index = partition(a,si,ei)\n",
    "    quick_sort(a,si,pivot_index-1)\n",
    "    quick_sort(a,pivot_index+1,ei)\n",
    "    \n",
    "    \n",
    "n=int(input())\n",
    "a=list(int(i) for i in input().strip().split(' '))\n",
    "quick_sort(a,0,len(a)-1)\n",
    "print(a)"
   ]
  },
  {
   "cell_type": "markdown",
   "id": "ed40a1ce",
   "metadata": {},
   "source": [
    "# 5.Tower Of Hanoi - Problem"
   ]
  },
  {
   "cell_type": "markdown",
   "id": "adcba014",
   "metadata": {},
   "source": [
    " \n",
    "### n is the number of disks to be moved.\n",
    "### source, auxiliary, and target are the names of the three pegs.\n",
    "### The function tower_of_hanoi is recursively defined. The base case (n == 1) involves directly moving a single disk from the source peg to the target peg.\n",
    "### For larger n, the algorithm breaks the problem down into three steps:\n",
    "\n",
    "## 1.Move n-1 disks from the source peg to the auxiliary peg using the target peg as the auxiliary.\n",
    "## 2.Move the largest disk (disk n) from the source peg to the target peg.\n",
    "## 3.Move the n-1 disks from the auxiliary peg to the target peg using the source peg as the auxiliary.\n",
    "\n",
    "### The print statements indicate the steps taken to move the disks."
   ]
  },
  {
   "cell_type": "code",
   "execution_count": 10,
   "id": "e9623f06",
   "metadata": {},
   "outputs": [
    {
     "name": "stdout",
     "output_type": "stream",
     "text": [
      "3\n",
      "a c\n",
      "a b\n",
      "c b\n",
      "a c\n",
      "b a\n",
      "b c\n",
      "a c\n"
     ]
    }
   ],
   "source": [
    "def towerofhanoi(n, source, aux, dest):\n",
    "    \n",
    "    if n ==0:\n",
    "        return\n",
    "    if n ==1:\n",
    "        print(source,dest)\n",
    "        return\n",
    "    towerofhanoi(n-1,source,dest,aux)\n",
    "    print(source,dest) \n",
    "    towerofhanoi(n-1,aux,source,dest)\n",
    "    pass\n",
    "\n",
    "n=int(input())\n",
    "towerofhanoi(n, 'a', 'b', 'c')"
   ]
  },
  {
   "cell_type": "markdown",
   "id": "3e8bf415",
   "metadata": {},
   "source": [
    "# 6.Geometric Sum"
   ]
  },
  {
   "cell_type": "code",
   "execution_count": 23,
   "id": "459daefd",
   "metadata": {},
   "outputs": [
    {
     "name": "stdout",
     "output_type": "stream",
     "text": [
      "3\n",
      "1.875\n"
     ]
    }
   ],
   "source": [
    "def Gsum(k):\n",
    "    if k==0:\n",
    "        return 1\n",
    "    else:\n",
    "        return 1/2**k + Gsum(k-1)\n",
    "    \n",
    "k=int(input())\n",
    "print(Gsum(k))\n",
    "    "
   ]
  },
  {
   "cell_type": "markdown",
   "id": "38c1bb44",
   "metadata": {},
   "source": [
    "# 7.Check Palindrome (recursive)"
   ]
  },
  {
   "cell_type": "markdown",
   "id": "8b417503",
   "metadata": {},
   "source": [
    "## 1. User must enter a string.\n",
    "## 2. The string is passed as an argument to a recursive function.\n",
    "## 3. In the function, if the length of the string is less than 1, True is returned.\n",
    "## 4. If the last letter is equal to the first letter, the function is called recursively with the argument as the sliced list with the first character and last character removed, else return False.\n",
    "## 5. The if statement is used to check if the returned value is True or False and the final result is printed."
   ]
  },
  {
   "cell_type": "code",
   "execution_count": 24,
   "id": "9593ac7c",
   "metadata": {},
   "outputs": [
    {
     "name": "stdout",
     "output_type": "stream",
     "text": [
      "enter a string:axxa\n",
      "String is a Palindrome :\n"
     ]
    }
   ],
   "source": [
    "def isPalindrome(s):\n",
    "    if len(s)<=1:\n",
    "        return True\n",
    "    else:\n",
    "        if s[0]==s[-1]:\n",
    "            return isPalindrome(s[1:-1])\n",
    "        else:\n",
    "            return False\n",
    "        \n",
    "        \n",
    "a= input(\"enter a string:\") \n",
    "if(isPalindrome(a)==True):\n",
    "    print(\"String is a Palindrome :\")\n",
    "else:\n",
    "    print(\"String is not a Palindrome\")\n",
    "    \n",
    "        \n",
    "    \n",
    "    \n",
    "    "
   ]
  },
  {
   "cell_type": "code",
   "execution_count": 28,
   "id": "3a30318d",
   "metadata": {},
   "outputs": [
    {
     "name": "stdout",
     "output_type": "stream",
     "text": [
      "a\n",
      "true\n"
     ]
    }
   ],
   "source": [
    "def isPalindrome(str):\n",
    "    if len(str)<=1:\n",
    "        return True\n",
    "    if str[0]!=str[len(str)-1]:\n",
    "        return False\n",
    "    return isPalindrome(str[1:-1])\n",
    "\n",
    "\n",
    "str = input()\n",
    "if isPalindrome(str):\n",
    "    print(\"true\")\n",
    "else:\n",
    "    print(\"false\")"
   ]
  },
  {
   "cell_type": "markdown",
   "id": "faff7c81",
   "metadata": {},
   "source": [
    "# 8.Sum of digits (recursive)"
   ]
  },
  {
   "cell_type": "code",
   "execution_count": 33,
   "id": "774f02e4",
   "metadata": {},
   "outputs": [
    {
     "name": "stdout",
     "output_type": "stream",
     "text": [
      "3423123\n",
      "18\n"
     ]
    }
   ],
   "source": [
    "def Sumofdigits(n):      #Sum of digits of a number \n",
    "    if n<10:\n",
    "        return n\n",
    "    return (n%10)+Sumofdigits(n//10)\n",
    "\n",
    "N=int(input())\n",
    "print(Sumofdigits(N))"
   ]
  },
  {
   "cell_type": "markdown",
   "id": "72a00a67",
   "metadata": {},
   "source": [
    "# 9.Multiplication (Recursive)"
   ]
  },
  {
   "cell_type": "code",
   "execution_count": 35,
   "id": "f2e304fe",
   "metadata": {},
   "outputs": [
    {
     "name": "stdout",
     "output_type": "stream",
     "text": [
      "3\n",
      "4\n",
      "12\n"
     ]
    }
   ],
   "source": [
    "from sys import setrecursionlimit\n",
    "setrecursionlimit(10**6)\n",
    "\n",
    "def mul(m,n):\n",
    "    if m==0 or n==0:\n",
    "        return 0\n",
    "    if n==1:\n",
    "        return m\n",
    "    if m==1:\n",
    "        return n\n",
    "    \n",
    "    \n",
    "    return m + mul(m,n-1)\n",
    "\n",
    "m= int(input())\n",
    "n= int(input())\n",
    "\n",
    "print(mul(m,n))\n",
    "\n",
    "\n"
   ]
  },
  {
   "cell_type": "markdown",
   "id": "bfe947d7",
   "metadata": {},
   "source": [
    "# 10.Count Zeroes"
   ]
  },
  {
   "cell_type": "code",
   "execution_count": 37,
   "id": "13a93bfa",
   "metadata": {},
   "outputs": [
    {
     "name": "stdout",
     "output_type": "stream",
     "text": [
      "120000000000000\n",
      "13\n"
     ]
    }
   ],
   "source": [
    "count=0\n",
    "def count_digit(num):\n",
    "    global count\n",
    "    if (num >0):\n",
    "        if(num%10==0):\n",
    "            count +=1\n",
    "        count_digit(num // 10)\n",
    "    return count\n",
    "n=int(input())\n",
    "print(count_digit(n))"
   ]
  },
  {
   "cell_type": "markdown",
   "id": "827a345a",
   "metadata": {},
   "source": [
    "# 11.String to Integer"
   ]
  },
  {
   "cell_type": "code",
   "execution_count": 38,
   "id": "ae56f3a2",
   "metadata": {},
   "outputs": [
    {
     "name": "stdout",
     "output_type": "stream",
     "text": [
      "1234\n",
      "1234\n"
     ]
    }
   ],
   "source": [
    "def String_to_Integer(n,si):\n",
    "    if(si==0):\n",
    "        return int(n[si])\n",
    "    smalloutput=int(n[si])+10*String_to_Integer(n,si-1)  #si = len(n)-1 last character from left\n",
    "    return smalloutput\n",
    "a=input()\n",
    "n=String_to_Integer(a,len(a)-1)\n",
    "print(n)"
   ]
  },
  {
   "cell_type": "markdown",
   "id": "79f35f8d",
   "metadata": {},
   "source": [
    "# 12.Pair Star "
   ]
  },
  {
   "cell_type": "code",
   "execution_count": 39,
   "id": "cb157006",
   "metadata": {},
   "outputs": [
    {
     "name": "stdout",
     "output_type": "stream",
     "text": [
      "lllo\n",
      "l*l*lo\n"
     ]
    }
   ],
   "source": [
    "def re(s):\n",
    "    n=len(s)\n",
    "    if n<=1:\n",
    "        return s\n",
    "    temp = re(s[1:])\n",
    "    if s[0]==s[1]:\n",
    "        return s[0]+\"*\"+temp\n",
    "    else:\n",
    "        return s[0]+temp\n",
    "    \n",
    "s=input().strip()\n",
    "print(re(s))\n",
    "    "
   ]
  },
  {
   "cell_type": "markdown",
   "id": "884f0caf",
   "metadata": {},
   "source": [
    "# 13.Check AB"
   ]
  },
  {
   "cell_type": "markdown",
   "id": "d5c1fd64",
   "metadata": {},
   "source": [
    "## Given a string S, made up of only 'a's and 'b's. Check the string for the following rules. Program in python using recursion.\n",
    "\n",
    "## 1. The string begins with an 'a'\n",
    "## 2. Each 'a' is followed by nothing or an 'a' or \"bb\"\n",
    "## 3. Each \"bb\" is followed by nothing or an 'a'"
   ]
  },
  {
   "cell_type": "code",
   "execution_count": 53,
   "id": "27c4ad54",
   "metadata": {},
   "outputs": [
    {
     "name": "stdout",
     "output_type": "stream",
     "text": [
      "baaabababaabba\n",
      "false\n"
     ]
    }
   ],
   "source": [
    "def checkAB(s):\n",
    "    if len(s) == 0:\n",
    "        return 1\n",
    "    if s[0] == 'a':\n",
    "        if s[1] == 'a' or s[1] == 'b':\n",
    "            return checkAB(s[2:])\n",
    "        if s[1] == None:\n",
    "            return 1\n",
    "        else:\n",
    "            return 0\n",
    "    elif s[0] == 'b':\n",
    "        if s[1] == 'b' and s[2] == None:\n",
    "            return checkAB(s[2:])\n",
    "        elif s[1] == 'b' and s[2] == 'a':\n",
    "            return 1\n",
    "        else:\n",
    "            return 0\n",
    "\n",
    "s = input()\n",
    "if s[0] == 'a':\n",
    "    if checkAB(s[1:]):\n",
    "        print('true')\n",
    "    else:\n",
    "        print('false')\n",
    "else:\n",
    "    print('false')"
   ]
  },
  {
   "cell_type": "markdown",
   "id": "5968c395",
   "metadata": {},
   "source": [
    "# 14. Staircase "
   ]
  },
  {
   "cell_type": "code",
   "execution_count": 54,
   "id": "7b0d9b92",
   "metadata": {},
   "outputs": [
    {
     "name": "stdout",
     "output_type": "stream",
     "text": [
      "4\n",
      "7\n"
     ]
    }
   ],
   "source": [
    "def Staircase(n):\n",
    "    if(n<=3):\n",
    "        if(n==1):\n",
    "            return 1\n",
    "        elif(n==2):\n",
    "            return 2\n",
    "        else:\n",
    "            return 4\n",
    "    x=Staircase(n-1)\n",
    "    y=Staircase(n-2)\n",
    "    z=Staircase(n-3)\n",
    "    return x+y+z\n",
    "n=int(input())\n",
    "a=Staircase(n)\n",
    "print(a)"
   ]
  },
  {
   "cell_type": "code",
   "execution_count": null,
   "id": "e1d90839",
   "metadata": {},
   "outputs": [],
   "source": []
  },
  {
   "cell_type": "code",
   "execution_count": null,
   "id": "ee4980c9",
   "metadata": {},
   "outputs": [],
   "source": []
  },
  {
   "cell_type": "code",
   "execution_count": null,
   "id": "ed79c483",
   "metadata": {},
   "outputs": [],
   "source": []
  },
  {
   "cell_type": "code",
   "execution_count": null,
   "id": "b7857c79",
   "metadata": {},
   "outputs": [],
   "source": []
  }
 ],
 "metadata": {
  "kernelspec": {
   "display_name": "Python 3 (ipykernel)",
   "language": "python",
   "name": "python3"
  },
  "language_info": {
   "codemirror_mode": {
    "name": "ipython",
    "version": 3
   },
   "file_extension": ".py",
   "mimetype": "text/x-python",
   "name": "python",
   "nbconvert_exporter": "python",
   "pygments_lexer": "ipython3",
   "version": "3.9.13"
  }
 },
 "nbformat": 4,
 "nbformat_minor": 5
}
