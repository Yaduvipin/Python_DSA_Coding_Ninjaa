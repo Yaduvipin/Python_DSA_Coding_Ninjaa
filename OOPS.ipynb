{
 "cells": [
  {
   "cell_type": "markdown",
   "id": "c48c04f6",
   "metadata": {},
   "source": [
    "# 1. Classes and Objects"
   ]
  },
  {
   "cell_type": "code",
   "execution_count": 3,
   "id": "c147aec8",
   "metadata": {},
   "outputs": [
    {
     "name": "stdout",
     "output_type": "stream",
     "text": [
      "<__main__.Student object at 0x000002E00A2B8F10>\n",
      "<class '__main__.Student'>\n"
     ]
    }
   ],
   "source": [
    "class Student:\n",
    "    pass\n",
    "\n",
    "s1 = Student()\n",
    "print(s1)\n",
    "\n",
    "print(type(s1))\n"
   ]
  },
  {
   "cell_type": "code",
   "execution_count": 4,
   "id": "76ce951a",
   "metadata": {},
   "outputs": [
    {
     "ename": "AttributeError",
     "evalue": "type object 'Student' has no attribute 'info'",
     "output_type": "error",
     "traceback": [
      "\u001b[1;31m---------------------------------------------------------------------------\u001b[0m",
      "\u001b[1;31mAttributeError\u001b[0m                            Traceback (most recent call last)",
      "\u001b[1;32m~\\AppData\\Local\\Temp\\ipykernel_16724\\1821353507.py\u001b[0m in \u001b[0;36m<module>\u001b[1;34m\u001b[0m\n\u001b[1;32m----> 1\u001b[1;33m \u001b[0mStudent\u001b[0m\u001b[1;33m.\u001b[0m\u001b[0minfo\u001b[0m\u001b[1;33m(\u001b[0m\u001b[1;33m)\u001b[0m\u001b[1;33m\u001b[0m\u001b[1;33m\u001b[0m\u001b[0m\n\u001b[0m",
      "\u001b[1;31mAttributeError\u001b[0m: type object 'Student' has no attribute 'info'"
     ]
    }
   ],
   "source": [
    "\n",
    "Student_info()\n"
   ]
  },
  {
   "cell_type": "markdown",
   "id": "5e9166e2",
   "metadata": {},
   "source": [
    "# 2. Attributes"
   ]
  },
  {
   "cell_type": "code",
   "execution_count": 5,
   "id": "033bb76b",
   "metadata": {},
   "outputs": [],
   "source": [
    "\n",
    "s2 = Student()\n",
    "s3 = Student()"
   ]
  },
  {
   "cell_type": "markdown",
   "id": "e98ba45d",
   "metadata": {},
   "source": [
    "# Adding Attributes in object"
   ]
  },
  {
   "cell_type": "code",
   "execution_count": 11,
   "id": "c98833ed",
   "metadata": {},
   "outputs": [],
   "source": [
    "s1.name = \"Ankush\"\n",
    "s2.rollnumber = 12 \n",
    "s3. name = \"Rohan\"\n",
    "s3.rollnumber = 13"
   ]
  },
  {
   "cell_type": "code",
   "execution_count": 7,
   "id": "d370c119",
   "metadata": {},
   "outputs": [
    {
     "data": {
      "text/plain": [
       "{'name': 'Ankush'}"
      ]
     },
     "execution_count": 7,
     "metadata": {},
     "output_type": "execute_result"
    }
   ],
   "source": [
    "s1.__dict__"
   ]
  },
  {
   "cell_type": "code",
   "execution_count": 8,
   "id": "96218ce6",
   "metadata": {},
   "outputs": [
    {
     "data": {
      "text/plain": [
       "{'rollnumber': 12}"
      ]
     },
     "execution_count": 8,
     "metadata": {},
     "output_type": "execute_result"
    }
   ],
   "source": [
    "s2.__dict__"
   ]
  },
  {
   "cell_type": "markdown",
   "id": "c27c16d0",
   "metadata": {},
   "source": [
    "# way to look all attribute in object"
   ]
  },
  {
   "cell_type": "code",
   "execution_count": 9,
   "id": "679ad1f7",
   "metadata": {},
   "outputs": [
    {
     "data": {
      "text/plain": [
       "{'name': 'Rohan', 'rollnumber': 13}"
      ]
     },
     "execution_count": 9,
     "metadata": {},
     "output_type": "execute_result"
    }
   ],
   "source": [
    "s3.__dict__"
   ]
  },
  {
   "cell_type": "code",
   "execution_count": 12,
   "id": "728fe360",
   "metadata": {},
   "outputs": [
    {
     "ename": "AttributeError",
     "evalue": "'Student' object has no attribute 'name'",
     "output_type": "error",
     "traceback": [
      "\u001b[1;31m---------------------------------------------------------------------------\u001b[0m",
      "\u001b[1;31mAttributeError\u001b[0m                            Traceback (most recent call last)",
      "\u001b[1;32m~\\AppData\\Local\\Temp\\ipykernel_16724\\1547413451.py\u001b[0m in \u001b[0;36m<module>\u001b[1;34m\u001b[0m\n\u001b[1;32m----> 1\u001b[1;33m \u001b[0ms2\u001b[0m\u001b[1;33m.\u001b[0m\u001b[0mname\u001b[0m\u001b[1;33m\u001b[0m\u001b[1;33m\u001b[0m\u001b[0m\n\u001b[0m",
      "\u001b[1;31mAttributeError\u001b[0m: 'Student' object has no attribute 'name'"
     ]
    }
   ],
   "source": [
    "s2.name"
   ]
  },
  {
   "cell_type": "code",
   "execution_count": 13,
   "id": "dc6a8f0e",
   "metadata": {},
   "outputs": [
    {
     "data": {
      "text/plain": [
       "'Ankush'"
      ]
     },
     "execution_count": 13,
     "metadata": {},
     "output_type": "execute_result"
    }
   ],
   "source": [
    "s1.name"
   ]
  },
  {
   "cell_type": "code",
   "execution_count": 14,
   "id": "0975fc18",
   "metadata": {},
   "outputs": [
    {
     "data": {
      "text/plain": [
       "True"
      ]
     },
     "execution_count": 14,
     "metadata": {},
     "output_type": "execute_result"
    }
   ],
   "source": [
    "hasattr(s1,'name')"
   ]
  },
  {
   "cell_type": "markdown",
   "id": "867fa11b",
   "metadata": {},
   "source": [
    "# get attribute"
   ]
  },
  {
   "cell_type": "code",
   "execution_count": 15,
   "id": "1b3030bc",
   "metadata": {},
   "outputs": [
    {
     "data": {
      "text/plain": [
       "'Ankush'"
      ]
     },
     "execution_count": 15,
     "metadata": {},
     "output_type": "execute_result"
    }
   ],
   "source": [
    "getattr(s1,\"name\")"
   ]
  },
  {
   "cell_type": "code",
   "execution_count": 16,
   "id": "a9248348",
   "metadata": {},
   "outputs": [
    {
     "data": {
      "text/plain": [
       "''"
      ]
     },
     "execution_count": 16,
     "metadata": {},
     "output_type": "execute_result"
    }
   ],
   "source": [
    "getattr(s1,\"class\",'')"
   ]
  },
  {
   "cell_type": "markdown",
   "id": "bc23c5da",
   "metadata": {},
   "source": [
    "# delete attribute in object"
   ]
  },
  {
   "cell_type": "code",
   "execution_count": 18,
   "id": "c54fd2cc",
   "metadata": {},
   "outputs": [],
   "source": [
    "delattr(s1,\"name\")"
   ]
  },
  {
   "cell_type": "code",
   "execution_count": 22,
   "id": "b049d5c2",
   "metadata": {},
   "outputs": [
    {
     "data": {
      "text/plain": [
       "{}"
      ]
     },
     "execution_count": 22,
     "metadata": {},
     "output_type": "execute_result"
    }
   ],
   "source": [
    "s1.__dict__"
   ]
  },
  {
   "cell_type": "code",
   "execution_count": 21,
   "id": "27e86bbf",
   "metadata": {},
   "outputs": [
    {
     "data": {
      "text/plain": [
       "{}"
      ]
     },
     "execution_count": 21,
     "metadata": {},
     "output_type": "execute_result"
    }
   ],
   "source": [
    "s1.__dict__"
   ]
  },
  {
   "cell_type": "markdown",
   "id": "1cd24e28",
   "metadata": {},
   "source": [
    "# 3. Self Parameter"
   ]
  },
  {
   "cell_type": "code",
   "execution_count": 37,
   "id": "6a729350",
   "metadata": {},
   "outputs": [],
   "source": [
    "class Student1():\n",
    "    \n",
    "    def Studentdetails(self):\n",
    "        self.name = 'Parikh'\n",
    "        print('name = ',self.name)"
   ]
  },
  {
   "cell_type": "code",
   "execution_count": 38,
   "id": "1d7ed653",
   "metadata": {},
   "outputs": [],
   "source": [
    "s4=Student1()"
   ]
  },
  {
   "cell_type": "code",
   "execution_count": 41,
   "id": "8052bdf9",
   "metadata": {},
   "outputs": [
    {
     "name": "stdout",
     "output_type": "stream",
     "text": [
      "name =  Parikh\n"
     ]
    }
   ],
   "source": [
    "s4.Studentdetails()"
   ]
  },
  {
   "cell_type": "code",
   "execution_count": 42,
   "id": "4362e57a",
   "metadata": {},
   "outputs": [
    {
     "data": {
      "text/plain": [
       "{'name': 'Parikh'}"
      ]
     },
     "execution_count": 42,
     "metadata": {},
     "output_type": "execute_result"
    }
   ],
   "source": [
    "s4.__dict__"
   ]
  },
  {
   "cell_type": "code",
   "execution_count": 43,
   "id": "00e1ecd6",
   "metadata": {},
   "outputs": [
    {
     "name": "stdout",
     "output_type": "stream",
     "text": [
      "name =  Parikh\n"
     ]
    }
   ],
   "source": [
    "Student1.Studentdetails(s4)\n",
    "#class_name function (objectname)"
   ]
  },
  {
   "cell_type": "code",
   "execution_count": 44,
   "id": "f63c37bc",
   "metadata": {},
   "outputs": [
    {
     "name": "stdout",
     "output_type": "stream",
     "text": [
      "name =  Parikh\n",
      "percentage= 80\n"
     ]
    }
   ],
   "source": [
    "class Student2():\n",
    "    \n",
    "    def StudentDetails(self):\n",
    "        self.name = 'Parikh'\n",
    "        self.age = 28\n",
    "        percentage = 80\n",
    "        print('name = ',self.name)\n",
    "        print('percentage=',percentage)\n",
    "        pass\n",
    "    \n",
    "s5=Student2()\n",
    "\n",
    "s5.StudentDetails()\n",
    "    "
   ]
  },
  {
   "cell_type": "code",
   "execution_count": 45,
   "id": "a666da84",
   "metadata": {},
   "outputs": [
    {
     "data": {
      "text/plain": [
       "28"
      ]
     },
     "execution_count": 45,
     "metadata": {},
     "output_type": "execute_result"
    }
   ],
   "source": [
    "s5.age"
   ]
  },
  {
   "cell_type": "code",
   "execution_count": 46,
   "id": "1a10c2a3",
   "metadata": {},
   "outputs": [
    {
     "name": "stdout",
     "output_type": "stream",
     "text": [
      "name =  Parikh\n",
      "percentage= 80\n"
     ]
    },
    {
     "ename": "AttributeError",
     "evalue": "'Student' object has no attribute 'passed'",
     "output_type": "error",
     "traceback": [
      "\u001b[1;31m---------------------------------------------------------------------------\u001b[0m",
      "\u001b[1;31mAttributeError\u001b[0m                            Traceback (most recent call last)",
      "\u001b[1;32m~\\AppData\\Local\\Temp\\ipykernel_16724\\3384992198.py\u001b[0m in \u001b[0;36m<module>\u001b[1;34m\u001b[0m\n\u001b[0;32m     18\u001b[0m \u001b[0ms1\u001b[0m \u001b[1;33m=\u001b[0m \u001b[0mStudent\u001b[0m\u001b[1;33m(\u001b[0m\u001b[1;33m)\u001b[0m\u001b[1;33m\u001b[0m\u001b[1;33m\u001b[0m\u001b[0m\n\u001b[0;32m     19\u001b[0m \u001b[0ms1\u001b[0m\u001b[1;33m.\u001b[0m\u001b[0mStudentdetails\u001b[0m\u001b[1;33m(\u001b[0m\u001b[1;33m)\u001b[0m\u001b[1;33m\u001b[0m\u001b[1;33m\u001b[0m\u001b[0m\n\u001b[1;32m---> 20\u001b[1;33m \u001b[0ms1\u001b[0m\u001b[1;33m.\u001b[0m\u001b[0mpassed\u001b[0m\u001b[1;33m(\u001b[0m\u001b[1;33m)\u001b[0m\u001b[1;33m\u001b[0m\u001b[1;33m\u001b[0m\u001b[0m\n\u001b[0m\u001b[0;32m     21\u001b[0m \u001b[1;33m\u001b[0m\u001b[0m\n\u001b[0;32m     22\u001b[0m \u001b[1;31m#due to percentage is local attribute rather than a instance attribute.\u001b[0m\u001b[1;33m\u001b[0m\u001b[1;33m\u001b[0m\u001b[0m\n",
      "\u001b[1;31mAttributeError\u001b[0m: 'Student' object has no attribute 'passed'"
     ]
    }
   ],
   "source": [
    "class Student():\n",
    "    \n",
    "    def Studentdetails(self):\n",
    "        self.name = 'Parikh'\n",
    "        percentage = 80\n",
    "        print('name = ',self.name)\n",
    "        print('percentage=',percentage)\n",
    "        pass\n",
    "    \n",
    "    def isPassed():\n",
    "        if percentage > Student.passingPercentage:\n",
    "            print('Student is passed')\n",
    "        else:\n",
    "            print('not passed')\n",
    "        \n",
    "    \n",
    "    \n",
    "s1 = Student()\n",
    "s1.Studentdetails()\n",
    "s1.passed()\n",
    "\n",
    "#due to percentage is local attribute rather than a instance attribute."
   ]
  },
  {
   "cell_type": "code",
   "execution_count": 47,
   "id": "1fe6f46a",
   "metadata": {},
   "outputs": [
    {
     "name": "stdout",
     "output_type": "stream",
     "text": [
      "name =  Parikh\n",
      "percentage= 80\n",
      "Student is passed\n"
     ]
    }
   ],
   "source": [
    "class Student():\n",
    "    \n",
    "    passingPercentage = 40\n",
    "    \n",
    "    def Studentdetails(self):\n",
    "        self.name = 'Parikh'\n",
    "        self.percentage = 80\n",
    "        print('name = ',self.name)\n",
    "        print('percentage=',self.percentage)\n",
    "        pass\n",
    "    \n",
    "    def isPassed(self):\n",
    "        if self.percentage > Student.passingPercentage:\n",
    "            print('Student is passed')\n",
    "        else:\n",
    "            print('not passed')\n",
    "            \n",
    "\n",
    "    \n",
    "            \n",
    "s1 = Student()\n",
    "s1.Studentdetails()\n",
    "s1.isPassed()                    "
   ]
  },
  {
   "cell_type": "markdown",
   "id": "1bf28252",
   "metadata": {},
   "source": [
    "# 4. Static Method"
   ]
  },
  {
   "cell_type": "code",
   "execution_count": 56,
   "id": "5071f14a",
   "metadata": {},
   "outputs": [
    {
     "name": "stdout",
     "output_type": "stream",
     "text": [
      "name =  Parikh\n",
      "percentage =  80\n",
      "Student id passed\n"
     ]
    },
    {
     "ename": "TypeError",
     "evalue": "welcometoSchool() takes 0 positional arguments but 1 was given",
     "output_type": "error",
     "traceback": [
      "\u001b[1;31m---------------------------------------------------------------------------\u001b[0m",
      "\u001b[1;31mTypeError\u001b[0m                                 Traceback (most recent call last)",
      "\u001b[1;32m~\\AppData\\Local\\Temp\\ipykernel_16724\\4084772887.py\u001b[0m in \u001b[0;36m<module>\u001b[1;34m\u001b[0m\n\u001b[0;32m     24\u001b[0m \u001b[0ms5\u001b[0m\u001b[1;33m.\u001b[0m\u001b[0mStudentDetails1\u001b[0m\u001b[1;33m(\u001b[0m\u001b[1;33m)\u001b[0m\u001b[1;33m\u001b[0m\u001b[1;33m\u001b[0m\u001b[0m\n\u001b[0;32m     25\u001b[0m \u001b[0ms5\u001b[0m\u001b[1;33m.\u001b[0m\u001b[0misPassed\u001b[0m\u001b[1;33m(\u001b[0m\u001b[1;33m)\u001b[0m\u001b[1;33m\u001b[0m\u001b[1;33m\u001b[0m\u001b[0m\n\u001b[1;32m---> 26\u001b[1;33m \u001b[0ms5\u001b[0m\u001b[1;33m.\u001b[0m\u001b[0mwelcometoSchool\u001b[0m\u001b[1;33m(\u001b[0m\u001b[1;33m)\u001b[0m\u001b[1;33m\u001b[0m\u001b[1;33m\u001b[0m\u001b[0m\n\u001b[0m\u001b[0;32m     27\u001b[0m \u001b[1;33m\u001b[0m\u001b[0m\n",
      "\u001b[1;31mTypeError\u001b[0m: welcometoSchool() takes 0 positional arguments but 1 was given"
     ]
    }
   ],
   "source": [
    "class Student3():\n",
    "    \n",
    "    passingPercentage = 40\n",
    "    \n",
    "    def StudentDetails1(self):\n",
    "        self.name = 'Parikh'\n",
    "        self.Percentage = 80\n",
    "        print('name = ',self.name)\n",
    "        print('percentage = ',self.Percentage)\n",
    "        pass\n",
    "    \n",
    "    def isPassed(self):\n",
    "        if self.Percentage > Student.passingPercentage:\n",
    "            print('Student id passed')\n",
    "        else:\n",
    "            print('not passed')\n",
    "            \n",
    "            \n",
    "    def welcometoSchool():\n",
    "        print('Welcome to school')\n",
    "        \n",
    "        \n",
    "s5 = Student3()\n",
    "s5.StudentDetails1()\n",
    "s5.isPassed()                    \n",
    "s5.welcometoSchool()    \n",
    "        "
   ]
  },
  {
   "cell_type": "code",
   "execution_count": 54,
   "id": "af62ee0c",
   "metadata": {
    "scrolled": true
   },
   "outputs": [
    {
     "name": "stdout",
     "output_type": "stream",
     "text": [
      "name =  Parikh\n",
      "percentage =  80\n",
      "Student id passed\n",
      "Welcome to school\n"
     ]
    }
   ],
   "source": [
    "class Student3():\n",
    "    \n",
    "    passingPercentage = 40\n",
    "    \n",
    "    def StudentDetails1(self):\n",
    "        self.name = 'Parikh'\n",
    "        self.Percentage = 80\n",
    "        print('name = ',self.name)\n",
    "        print('percentage = ',self.Percentage)\n",
    "        pass\n",
    "    \n",
    "    def isPassed(self):\n",
    "        if self.Percentage > Student.passingPercentage:\n",
    "            print('Student id passed')\n",
    "        else:\n",
    "            print('not passed')\n",
    "            \n",
    "    @staticmethod        \n",
    "    def welcometoSchool():\n",
    "        print('Welcome to school')\n",
    "        \n",
    "        \n",
    "s5 = Student3()\n",
    "s5.StudentDetails1()\n",
    "s5.isPassed()                    \n",
    "s5.welcometoSchool()   "
   ]
  },
  {
   "cell_type": "markdown",
   "id": "d6d819ee",
   "metadata": {},
   "source": [
    "# 5. Init Method"
   ]
  },
  {
   "cell_type": "code",
   "execution_count": 60,
   "id": "30e047ed",
   "metadata": {},
   "outputs": [],
   "source": [
    "class Student5:\n",
    "    \n",
    "    def __init__(self):\n",
    "        self.name = 'abc'\n",
    "        self.rollnumber=12\n",
    "        \n",
    "        "
   ]
  },
  {
   "cell_type": "code",
   "execution_count": 61,
   "id": "ceeb4a91",
   "metadata": {},
   "outputs": [],
   "source": [
    "s6 = Student5()"
   ]
  },
  {
   "cell_type": "code",
   "execution_count": 62,
   "id": "9bc76723",
   "metadata": {},
   "outputs": [
    {
     "data": {
      "text/plain": [
       "{'name': 'abc', 'rollnumber': 12}"
      ]
     },
     "execution_count": 62,
     "metadata": {},
     "output_type": "execute_result"
    }
   ],
   "source": [
    "s6.__dict__"
   ]
  },
  {
   "cell_type": "code",
   "execution_count": 63,
   "id": "42495c9c",
   "metadata": {},
   "outputs": [],
   "source": [
    "s7=Student5()"
   ]
  },
  {
   "cell_type": "code",
   "execution_count": 64,
   "id": "aa294a4b",
   "metadata": {},
   "outputs": [
    {
     "data": {
      "text/plain": [
       "{'name': 'abc', 'rollnumber': 12}"
      ]
     },
     "execution_count": 64,
     "metadata": {},
     "output_type": "execute_result"
    }
   ],
   "source": [
    "s7.__dict__"
   ]
  },
  {
   "cell_type": "code",
   "execution_count": 65,
   "id": "cbb71d32",
   "metadata": {},
   "outputs": [
    {
     "data": {
      "text/plain": [
       "(<__main__.Student5 at 0x2e00a3d0d30>, <__main__.Student5 at 0x2e00a3d0df0>)"
      ]
     },
     "execution_count": 65,
     "metadata": {},
     "output_type": "execute_result"
    }
   ],
   "source": [
    "s6,s7"
   ]
  },
  {
   "cell_type": "code",
   "execution_count": 66,
   "id": "cbd3ae88",
   "metadata": {},
   "outputs": [],
   "source": [
    "class STUDENT:\n",
    "    \n",
    "    def __init__(self,name,Rollnumber):\n",
    "        self.name = name\n",
    "        self.Rollnumber = Rollnumber"
   ]
  },
  {
   "cell_type": "code",
   "execution_count": 79,
   "id": "05c9f0c0",
   "metadata": {},
   "outputs": [],
   "source": [
    "s1=STUDENT('VIPIN',13314)\n"
   ]
  },
  {
   "cell_type": "code",
   "execution_count": 83,
   "id": "7ddec91e",
   "metadata": {},
   "outputs": [],
   "source": [
    "s2 = STUDENT('VIJAY',13214)"
   ]
  },
  {
   "cell_type": "code",
   "execution_count": 85,
   "id": "23cf2ce1",
   "metadata": {},
   "outputs": [
    {
     "data": {
      "text/plain": [
       "(<__main__.STUDENT at 0x2e009e1a910>, <__main__.STUDENT at 0x2e00a3d0ca0>)"
      ]
     },
     "execution_count": 85,
     "metadata": {},
     "output_type": "execute_result"
    }
   ],
   "source": [
    "s1,s2"
   ]
  },
  {
   "cell_type": "code",
   "execution_count": 84,
   "id": "584f14b4",
   "metadata": {},
   "outputs": [
    {
     "data": {
      "text/plain": [
       "({'name': 'VIPIN', 'Rollnumber': 13314},\n",
       " {'name': 'VIJAY', 'Rollnumber': 13214})"
      ]
     },
     "execution_count": 84,
     "metadata": {},
     "output_type": "execute_result"
    }
   ],
   "source": [
    "s1.__dict__, s2.__dict__"
   ]
  },
  {
   "cell_type": "markdown",
   "id": "3dec90a5",
   "metadata": {},
   "source": [
    "# 1. Inheritance - Basics Of Inheritance"
   ]
  },
  {
   "cell_type": "code",
   "execution_count": 86,
   "id": "188c1872",
   "metadata": {},
   "outputs": [],
   "source": [
    "class Vehicle:\n",
    "    def __init__(self,color,maxSpeed):\n",
    "        self.color = color\n",
    "        self.maxSpeed= maxSpeed\n",
    "        \n",
    "class Car(Vehicle):\n",
    "    def __init__(self,color,maxSpeed,numGears,isConvertible):\n",
    "        \n",
    "        super().__init__(color,maxSpeed)\n",
    "        self.numGears = numGears\n",
    "        self.isConvertible=isConvertible\n",
    "        \n",
    "    def printCar(self):\n",
    "        print('Color:',self.color)\n",
    "        print('Maxspeed:',self.maxSpeed)\n",
    "        print('NumGears:',self.numGears)\n",
    "        print('IsConvertible:',self.isConvertible)"
   ]
  },
  {
   "cell_type": "code",
   "execution_count": 87,
   "id": "391d0e9a",
   "metadata": {},
   "outputs": [
    {
     "name": "stdout",
     "output_type": "stream",
     "text": [
      "Color: red\n",
      "Maxspeed: 100\n",
      "NumGears: 6\n",
      "IsConvertible: False\n"
     ]
    }
   ],
   "source": [
    "c = Car('red',100,6,False)\n",
    "c.printCar()"
   ]
  },
  {
   "cell_type": "markdown",
   "id": "47d6e900",
   "metadata": {},
   "source": [
    "# 2. Inheritance And Private Members -Continue"
   ]
  },
  {
   "cell_type": "code",
   "execution_count": 88,
   "id": "2b8e58b8",
   "metadata": {},
   "outputs": [],
   "source": [
    "class Vehicle:\n",
    "    def __init__(self,color,maxSpeed):\n",
    "        self.color = color\n",
    "        self.__maxSpeed= maxSpeed #PRIVATE MEMBER\n",
    "        \n",
    "        \n",
    "    def getMaxSpeed(self): #FOR FIX\n",
    "        return self.__maxSpeed\n",
    "    \n",
    "    def setMaxSpeed(self,maxSpeed):#FOR FOX\n",
    "        self.__maxSpeed = maxSpeed\n",
    "        \n",
    "class Car(Vehicle):\n",
    "    def __init__(self,color,maxSpeed,numGears,isConvertible):\n",
    "        \n",
    "        super().__init__(color,maxSpeed)\n",
    "        self.numGears = numGears\n",
    "        self.isConvertible=isConvertible\n",
    "        \n",
    "    def printCar(self):\n",
    "        print('Color:',self.color)\n",
    "        print('Maxspeed:',self.getMaxSpeed())\n",
    "        print('NumGears:',self.numGears)\n",
    "        print('IsConvertible:',self.isConvertible)"
   ]
  },
  {
   "cell_type": "code",
   "execution_count": 89,
   "id": "0ea4ffe6",
   "metadata": {},
   "outputs": [
    {
     "name": "stdout",
     "output_type": "stream",
     "text": [
      "Color: red\n",
      "Maxspeed: 100\n",
      "NumGears: 6\n",
      "IsConvertible: False\n"
     ]
    }
   ],
   "source": [
    "c = Car('red',100,6,False)\n",
    "c.printCar()"
   ]
  },
  {
   "cell_type": "code",
   "execution_count": 90,
   "id": "8418f9ff",
   "metadata": {},
   "outputs": [
    {
     "name": "stdout",
     "output_type": "stream",
     "text": [
      "Color: red\n",
      "Maxspeed: 100\n",
      "NumGears: 6\n",
      "IsConvertible: False\n"
     ]
    }
   ],
   "source": [
    "class Vehicle:\n",
    "    def __init__(self,color,maxSpeed):\n",
    "        self.color = color\n",
    "        self.__maxSpeed= maxSpeed #PRIVATE MEMBER\n",
    "        \n",
    "        \n",
    "    def getMaxSpeed(self): #FOR FIX\n",
    "        return self.__maxSpeed\n",
    "    \n",
    "    def setMaxSpeed(self,maxSpeed):#FOR FOX\n",
    "        self.__maxSpeed = maxSpeed\n",
    "        \n",
    "    def print(self):\n",
    "        print('Color:',self.color)\n",
    "        print('Maxspeed:',self.getMaxSpeed())\n",
    "        \n",
    "        \n",
    "class Car(Vehicle):\n",
    "    def __init__(self,color,maxSpeed,numGears,isConvertible):\n",
    "        \n",
    "        super().__init__(color,maxSpeed)\n",
    "        self.numGears = numGears\n",
    "        self.isConvertible=isConvertible\n",
    "        \n",
    "    def printCar(self):     \n",
    "        super().print() #self.print()\n",
    "        print('NumGears:',self.numGears)\n",
    "        print('IsConvertible:',self.isConvertible)\n",
    "        \n",
    "c = Car('red',100,6,False)\n",
    "c.printCar()"
   ]
  },
  {
   "cell_type": "markdown",
   "id": "b37c602b",
   "metadata": {},
   "source": [
    "# 3. Polymorphism"
   ]
  },
  {
   "cell_type": "code",
   "execution_count": 91,
   "id": "97ed44d0",
   "metadata": {},
   "outputs": [
    {
     "name": "stdout",
     "output_type": "stream",
     "text": [
      "NumGears: 6\n",
      "IsConvertible: False\n"
     ]
    }
   ],
   "source": [
    "class Vehicle:\n",
    "    def __init__(self,color,maxSpeed):\n",
    "        self.color = color\n",
    "        self.__maxSpeed= maxSpeed #PRIVATE MEMBER\n",
    "        \n",
    "        \n",
    "    def getMaxSpeed(self): #FOR FIX\n",
    "        return self.__maxSpeed\n",
    "    \n",
    "    def setMaxSpeed(self,maxSpeed):#FOR FOX\n",
    "        self.__maxSpeed = maxSpeed\n",
    "        \n",
    "    def print(self):\n",
    "        print('Color:',self.color)\n",
    "        print('Maxspeed:',self.getMaxSpeed())\n",
    "        \n",
    "        \n",
    "class Car(Vehicle):\n",
    "    def __init__(self,color,maxSpeed,numGears,isConvertible):\n",
    "        \n",
    "        super().__init__(color,maxSpeed)\n",
    "        self.numGears = numGears\n",
    "        self.isConvertible=isConvertible\n",
    "        \n",
    "    def print(self):     \n",
    "        #super().print() #self.print()\n",
    "        print('NumGears:',self.numGears)\n",
    "        print('IsConvertible:',self.isConvertible)\n",
    "        \n",
    "c = Car('red',100,6,False)\n",
    "c.print()"
   ]
  },
  {
   "cell_type": "code",
   "execution_count": 92,
   "id": "c990cd3d",
   "metadata": {},
   "outputs": [
    {
     "name": "stdout",
     "output_type": "stream",
     "text": [
      "Color: red\n",
      "Maxspeed: 100\n"
     ]
    }
   ],
   "source": [
    "class Vehicle:\n",
    "    def __init__(self,color,maxSpeed):\n",
    "        self.color = color\n",
    "        self.__maxSpeed= maxSpeed #PRIVATE MEMBER\n",
    "        \n",
    "        \n",
    "    def getMaxSpeed(self): #FOR FIX\n",
    "        return self.__maxSpeed\n",
    "    \n",
    "    def setMaxSpeed(self,maxSpeed):#FOR FOX\n",
    "        self.__maxSpeed = maxSpeed\n",
    "        \n",
    "    def print(self):\n",
    "        print('Color:',self.color)\n",
    "        print('Maxspeed:',self.getMaxSpeed())\n",
    "        \n",
    "        \n",
    "class Car(Vehicle):\n",
    "    def __init__(self,color,maxSpeed,numGears,isConvertible):\n",
    "        \n",
    "        super().__init__(color,maxSpeed)\n",
    "        self.numGears = numGears\n",
    "        self.isConvertible=isConvertible\n",
    "        \n",
    "    #def print(self):     \n",
    "        #super().print() #self.print()\n",
    "        #print('NumGears:',self.numGears)\n",
    "        #print('IsConvertible:',self.isConvertible)\n",
    "        \n",
    "c = Car('red',100,6,False)\n",
    "c.print()"
   ]
  },
  {
   "cell_type": "code",
   "execution_count": null,
   "id": "d5a7e769",
   "metadata": {},
   "outputs": [],
   "source": [
    "class Vehicle:\n",
    "    def __init__(self,color,maxSpeed):\n",
    "        self.color = color\n",
    "        self.__maxSpeed= maxSpeed #PRIVATE MEMBER\n",
    "        \n",
    "        \n",
    "    def getMaxSpeed(self): #FOR FIX\n",
    "        return self.__maxSpeed\n",
    "    \n",
    "    def setMaxSpeed(self,maxSpeed):#FOR FOX\n",
    "        self.__maxSpeed = maxSpeed\n",
    "        \n",
    "    def print(self):\n",
    "        print('Color:',self.color)\n",
    "        print('Maxspeed:',self.getMaxSpeed())\n",
    "        \n",
    "        \n",
    "class Car(Vehicle):\n",
    "    def __init__(self,color,maxSpeed,numGears,isConvertible):\n",
    "        \n",
    "        super().__init__(color,maxSpeed)\n",
    "        self.numGears = numGears\n",
    "        self.isConvertible=isConvertible\n",
    "        \n",
    "    def print(self):     \n",
    "        self.print()\n",
    "        print('NumGears:',self.numGears)\n",
    "        print('IsConvertible:',self.isConvertible)\n",
    "        \n",
    "c = Car('red',100,6,False)\n",
    "c.print()"
   ]
  },
  {
   "cell_type": "markdown",
   "id": "6ffd0111",
   "metadata": {},
   "source": [
    "# 4. Object Class"
   ]
  },
  {
   "cell_type": "code",
   "execution_count": 1,
   "id": "7e55f277",
   "metadata": {},
   "outputs": [],
   "source": [
    "class Circle:\n",
    "    \n",
    "    def __init__(self,radius):\n",
    "        self.radius = radius"
   ]
  },
  {
   "cell_type": "code",
   "execution_count": 2,
   "id": "ba32250e",
   "metadata": {},
   "outputs": [
    {
     "name": "stdout",
     "output_type": "stream",
     "text": [
      "<__main__.Circle object at 0x0000021671D4AEE0>\n"
     ]
    }
   ],
   "source": [
    "c = Circle(3)\n",
    "print(c)"
   ]
  },
  {
   "cell_type": "code",
   "execution_count": 3,
   "id": "56207bed",
   "metadata": {},
   "outputs": [],
   "source": [
    "class Circle:\n",
    "    \n",
    "    def __init__(self,radius):\n",
    "        self.radius = radius\n",
    "        \n",
    "    def __str__ (self):\n",
    "        return 'this is a Circle Cls which takes radius as an argument'"
   ]
  },
  {
   "cell_type": "code",
   "execution_count": 4,
   "id": "d1d338ca",
   "metadata": {},
   "outputs": [
    {
     "name": "stdout",
     "output_type": "stream",
     "text": [
      "this is a Circle Cls which takes radius as an argument\n"
     ]
    }
   ],
   "source": [
    "c = Circle(3)\n",
    "print(c)"
   ]
  },
  {
   "cell_type": "code",
   "execution_count": 5,
   "id": "fd6553c3",
   "metadata": {},
   "outputs": [
    {
     "data": {
      "text/plain": [
       "{'radius': 3}"
      ]
     },
     "execution_count": 5,
     "metadata": {},
     "output_type": "execute_result"
    }
   ],
   "source": [
    "c.__dict__"
   ]
  },
  {
   "cell_type": "markdown",
   "id": "0da7fd20",
   "metadata": {},
   "source": [
    "# 5. Multiple Inheritance & Method Resolution Order"
   ]
  },
  {
   "cell_type": "code",
   "execution_count": 6,
   "id": "35cd2539",
   "metadata": {},
   "outputs": [
    {
     "name": "stdout",
     "output_type": "stream",
     "text": [
      "Name of child is Ajay\n",
      "[<class '__main__.Child'>, <class '__main__.Mother'>, <class '__main__.Father'>, <class 'object'>]\n"
     ]
    }
   ],
   "source": [
    "class Mother:\n",
    "\n",
    "    def __init__(self):\n",
    "        self.name = \"Manju\"\n",
    "        super().__init__()\n",
    "\n",
    "    def print(self):\n",
    "\n",
    "        print(\"Print Of Mother called\")\n",
    "\n",
    "class Father:\n",
    "\n",
    "    def __init__(self):\n",
    "        self.name = \"Ajay\"\n",
    "        super().__init__()\n",
    "    def print(self):\n",
    "\n",
    "        print(\"Print Of Father called\")\n",
    "\n",
    "class Child(Mother,Father):\n",
    "\n",
    "    def __init__(self):\n",
    "        super().__init__()\n",
    "\n",
    "    def print(self):\n",
    "        print(\"Name of child is\", self.name)\n",
    "\n",
    "c = Child()\n",
    "c.print()\n",
    "print(Child.mro())"
   ]
  },
  {
   "cell_type": "code",
   "execution_count": 7,
   "id": "9d777f87",
   "metadata": {},
   "outputs": [
    {
     "name": "stdout",
     "output_type": "stream",
     "text": [
      "Name of child is Manju\n",
      "[<class '__main__.Child'>, <class '__main__.Mother'>, <class '__main__.Father'>, <class 'object'>]\n"
     ]
    }
   ],
   "source": [
    "class Mother:\n",
    "\n",
    "    def __init__(self):\n",
    "        self.name = \"Manju\"\n",
    "\n",
    "    def print(self):\n",
    "\n",
    "        print(\"Print Of Mother called\")\n",
    "\n",
    "class Father:\n",
    "\n",
    "    def __init__(self):\n",
    "        self.name = \"Ajay\"\n",
    "        \n",
    "        \n",
    "    def print(self):\n",
    "\n",
    "        print(\"Print Of Father called\")\n",
    "\n",
    "class Child(Mother,Father):\n",
    "\n",
    "    def __init__(self):\n",
    "        super().__init__()\n",
    "\n",
    "    def print(self):\n",
    "        print(\"Name of child is\", self.name)\n",
    "\n",
    "c = Child()\n",
    "c.print()\n",
    "print(Child.mro())"
   ]
  },
  {
   "cell_type": "code",
   "execution_count": 8,
   "id": "d36238e7",
   "metadata": {},
   "outputs": [
    {
     "name": "stdout",
     "output_type": "stream",
     "text": [
      "Name of child is Ajay\n",
      "[<class '__main__.Child'>, <class '__main__.Mother'>, <class '__main__.Father'>, <class 'object'>]\n"
     ]
    }
   ],
   "source": [
    "class Mother:\n",
    "\n",
    "    def __init__(self):\n",
    "        self.name = \"Manju\"\n",
    "        super().__init__()\n",
    "\n",
    "    def print(self):\n",
    "\n",
    "        print(\"Print Of Mother called\")\n",
    "\n",
    "class Father:\n",
    "\n",
    "    def __init__(self):\n",
    "        self.name = \"Ajay\"\n",
    "        \n",
    "        \n",
    "    def print(self):\n",
    "\n",
    "        print(\"Print Of Father called\")\n",
    "\n",
    "class Child(Mother,Father):\n",
    "\n",
    "    def __init__(self):\n",
    "        super().__init__()\n",
    "\n",
    "    def print(self):\n",
    "        print(\"Name of child is\", self.name)\n",
    "\n",
    "c = Child()\n",
    "c.print()\n",
    "print(Child.mro())"
   ]
  },
  {
   "cell_type": "markdown",
   "id": "632370eb",
   "metadata": {},
   "source": [
    "# 6. Operator Overloading"
   ]
  },
  {
   "cell_type": "code",
   "execution_count": 9,
   "id": "a83d183c",
   "metadata": {},
   "outputs": [],
   "source": [
    "class Point:\n",
    "    \n",
    "    def __init__(self,x,y):\n",
    "        self.__x = x\n",
    "        self.__y = y\n",
    "        \n",
    "    def __str__(self):\n",
    "        return \"This point is at (\"+ str(self.__x) +\",\"+ str (self.__y)+\")\"\n",
    "    \n",
    "    def __add__(self,point_object):\n",
    "        return Point(self.__x+ point_object.__x,self.__y + point_object.__y)"
   ]
  },
  {
   "cell_type": "code",
   "execution_count": 10,
   "id": "0fecf30e",
   "metadata": {},
   "outputs": [
    {
     "name": "stdout",
     "output_type": "stream",
     "text": [
      "This point is at (4,6)\n"
     ]
    }
   ],
   "source": [
    "p1 = Point(1,2)\n",
    "p2 = Point(3,4)\n",
    "p3 = p1 + p2\n",
    "print(p3)"
   ]
  },
  {
   "cell_type": "markdown",
   "id": "83b70257",
   "metadata": {},
   "source": [
    "# 7.Abstract Classes"
   ]
  },
  {
   "cell_type": "code",
   "execution_count": 11,
   "id": "9d6c203c",
   "metadata": {},
   "outputs": [],
   "source": [
    "from abc import ABC, abstractmethod\n",
    "\n",
    "class Automobile(ABC):\n",
    "    \n",
    "    def __init__ (self):\n",
    "        print('Automobile Created')\n",
    "        \n",
    "    @abstractmethod\n",
    "    def start(self):\n",
    "        pass\n",
    "    \n",
    "    @abstractmethod\n",
    "    def stop(self):\n",
    "        pass\n",
    "    \n",
    "    @abstractmethod\n",
    "    def drive(self):\n",
    "        pass\n",
    "    \n",
    "class Car(Automobile):\n",
    "    \n",
    "    def __init__(self,name):\n",
    "        print('Car Created')\n",
    "        self.name = name\n",
    "        \n",
    "    def start(self):\n",
    "        pass\n",
    "    \n",
    "    def stop(self):\n",
    "        pass\n",
    "\n",
    "    def drive(self):\n",
    "        pass"
   ]
  },
  {
   "cell_type": "code",
   "execution_count": 12,
   "id": "e910ae5f",
   "metadata": {},
   "outputs": [
    {
     "name": "stdout",
     "output_type": "stream",
     "text": [
      "Car Created\n"
     ]
    }
   ],
   "source": [
    "c = Car('Honda')"
   ]
  },
  {
   "cell_type": "code",
   "execution_count": 13,
   "id": "199ac68f",
   "metadata": {},
   "outputs": [],
   "source": [
    "from abc import ABC, abstractmethod\n",
    "\n",
    "class Automobile(ABC):\n",
    "    \n",
    "    def __init__ (self):\n",
    "        print('Automobile Created')\n",
    "        \n",
    "    @abstractmethod\n",
    "    def start(self):\n",
    "        pass\n",
    "    \n",
    "    @abstractmethod\n",
    "    def stop(self):\n",
    "        pass\n",
    "    \n",
    "    @abstractmethod\n",
    "    def drive(self):\n",
    "        pass\n",
    "    \n",
    "class Car(Automobile):\n",
    "    \n",
    "    #def __init__(self,name):\n",
    "        #print('Car Created')\n",
    "        #self.name = name\n",
    "        \n",
    "    def start(self):\n",
    "        pass\n",
    "    \n",
    "    def stop(self):\n",
    "        pass\n",
    "\n",
    "    def drive(self):\n",
    "        pass"
   ]
  },
  {
   "cell_type": "code",
   "execution_count": 14,
   "id": "3c5f6b53",
   "metadata": {},
   "outputs": [
    {
     "name": "stdout",
     "output_type": "stream",
     "text": [
      "Automobile Created\n"
     ]
    }
   ],
   "source": [
    "c = Car()"
   ]
  },
  {
   "cell_type": "markdown",
   "id": "32993e79",
   "metadata": {},
   "source": [
    " # 8.Errors And Exceptions"
   ]
  },
  {
   "cell_type": "code",
   "execution_count": 15,
   "id": "629f8d01",
   "metadata": {},
   "outputs": [
    {
     "ename": "ZeroDivisionError",
     "evalue": "division by zero",
     "output_type": "error",
     "traceback": [
      "\u001b[1;31m---------------------------------------------------------------------------\u001b[0m",
      "\u001b[1;31mZeroDivisionError\u001b[0m                         Traceback (most recent call last)",
      "\u001b[1;32m~\\AppData\\Local\\Temp\\ipykernel_10388\\384580793.py\u001b[0m in \u001b[0;36m<module>\u001b[1;34m\u001b[0m\n\u001b[1;32m----> 1\u001b[1;33m \u001b[0ma\u001b[0m\u001b[1;33m=\u001b[0m\u001b[1;36m10\u001b[0m\u001b[1;33m/\u001b[0m\u001b[1;36m0\u001b[0m\u001b[1;33m\u001b[0m\u001b[1;33m\u001b[0m\u001b[0m\n\u001b[0m\u001b[0;32m      2\u001b[0m \u001b[0ma\u001b[0m\u001b[1;33m\u001b[0m\u001b[1;33m\u001b[0m\u001b[0m\n",
      "\u001b[1;31mZeroDivisionError\u001b[0m: division by zero"
     ]
    }
   ],
   "source": [
    "a=10/0\n",
    "a\n"
   ]
  },
  {
   "cell_type": "code",
   "execution_count": 16,
   "id": "9bf26980",
   "metadata": {},
   "outputs": [
    {
     "ename": "NameError",
     "evalue": "name 'b' is not defined",
     "output_type": "error",
     "traceback": [
      "\u001b[1;31m---------------------------------------------------------------------------\u001b[0m",
      "\u001b[1;31mNameError\u001b[0m                                 Traceback (most recent call last)",
      "\u001b[1;32m~\\AppData\\Local\\Temp\\ipykernel_10388\\3474600547.py\u001b[0m in \u001b[0;36m<module>\u001b[1;34m\u001b[0m\n\u001b[1;32m----> 1\u001b[1;33m \u001b[0ma\u001b[0m \u001b[1;33m=\u001b[0m \u001b[0mb\u001b[0m\u001b[1;33m*\u001b[0m\u001b[1;36m4\u001b[0m\u001b[1;33m\u001b[0m\u001b[1;33m\u001b[0m\u001b[0m\n\u001b[0m\u001b[0;32m      2\u001b[0m \u001b[0ma\u001b[0m\u001b[1;33m\u001b[0m\u001b[1;33m\u001b[0m\u001b[0m\n",
      "\u001b[1;31mNameError\u001b[0m: name 'b' is not defined"
     ]
    }
   ],
   "source": [
    "a = b*4\n",
    "a"
   ]
  },
  {
   "cell_type": "code",
   "execution_count": 17,
   "id": "7924b08f",
   "metadata": {},
   "outputs": [
    {
     "ename": "TypeError",
     "evalue": "can only concatenate str (not \"int\") to str",
     "output_type": "error",
     "traceback": [
      "\u001b[1;31m---------------------------------------------------------------------------\u001b[0m",
      "\u001b[1;31mTypeError\u001b[0m                                 Traceback (most recent call last)",
      "\u001b[1;32m~\\AppData\\Local\\Temp\\ipykernel_10388\\3599247181.py\u001b[0m in \u001b[0;36m<module>\u001b[1;34m\u001b[0m\n\u001b[1;32m----> 1\u001b[1;33m \u001b[0ma\u001b[0m \u001b[1;33m=\u001b[0m \u001b[1;34m'b'\u001b[0m\u001b[1;33m+\u001b[0m\u001b[1;36m4\u001b[0m\u001b[1;33m\u001b[0m\u001b[1;33m\u001b[0m\u001b[0m\n\u001b[0m\u001b[0;32m      2\u001b[0m \u001b[0ma\u001b[0m\u001b[1;33m\u001b[0m\u001b[1;33m\u001b[0m\u001b[0m\n",
      "\u001b[1;31mTypeError\u001b[0m: can only concatenate str (not \"int\") to str"
     ]
    }
   ],
   "source": [
    "a = 'b'+4\n",
    "a"
   ]
  },
  {
   "cell_type": "code",
   "execution_count": 19,
   "id": "0a42be1f",
   "metadata": {},
   "outputs": [
    {
     "name": "stdout",
     "output_type": "stream",
     "text": [
      "enter value of a123\n",
      "enter value of basd\n"
     ]
    },
    {
     "ename": "ValueError",
     "evalue": "invalid literal for int() with base 10: 'asd'",
     "output_type": "error",
     "traceback": [
      "\u001b[1;31m---------------------------------------------------------------------------\u001b[0m",
      "\u001b[1;31mValueError\u001b[0m                                Traceback (most recent call last)",
      "\u001b[1;32m~\\AppData\\Local\\Temp\\ipykernel_10388\\4136208546.py\u001b[0m in \u001b[0;36m<module>\u001b[1;34m\u001b[0m\n\u001b[0;32m      1\u001b[0m \u001b[0ma\u001b[0m \u001b[1;33m=\u001b[0m \u001b[0mint\u001b[0m\u001b[1;33m(\u001b[0m\u001b[0minput\u001b[0m\u001b[1;33m(\u001b[0m\u001b[1;34m'enter value of a'\u001b[0m\u001b[1;33m)\u001b[0m\u001b[1;33m)\u001b[0m\u001b[1;33m\u001b[0m\u001b[1;33m\u001b[0m\u001b[0m\n\u001b[1;32m----> 2\u001b[1;33m \u001b[0mb\u001b[0m \u001b[1;33m=\u001b[0m \u001b[0mint\u001b[0m\u001b[1;33m(\u001b[0m\u001b[0minput\u001b[0m\u001b[1;33m(\u001b[0m\u001b[1;34m'enter value of b'\u001b[0m\u001b[1;33m)\u001b[0m\u001b[1;33m)\u001b[0m\u001b[1;33m\u001b[0m\u001b[1;33m\u001b[0m\u001b[0m\n\u001b[0m\u001b[0;32m      3\u001b[0m \u001b[0mc\u001b[0m \u001b[1;33m=\u001b[0m \u001b[0ma\u001b[0m\u001b[1;33m/\u001b[0m\u001b[0mb\u001b[0m\u001b[1;33m\u001b[0m\u001b[1;33m\u001b[0m\u001b[0m\n\u001b[0;32m      4\u001b[0m \u001b[0mc\u001b[0m\u001b[1;33m\u001b[0m\u001b[1;33m\u001b[0m\u001b[0m\n",
      "\u001b[1;31mValueError\u001b[0m: invalid literal for int() with base 10: 'asd'"
     ]
    }
   ],
   "source": [
    "a = int(input('enter value of a'))\n",
    "b = int(input('enter value of b'))\n",
    "c = a/b\n",
    "c"
   ]
  },
  {
   "cell_type": "markdown",
   "id": "eae145ba",
   "metadata": {},
   "source": [
    "# 9.Intro To Exception Handling"
   ]
  },
  {
   "cell_type": "code",
   "execution_count": 20,
   "id": "d04a1795",
   "metadata": {},
   "outputs": [
    {
     "name": "stdout",
     "output_type": "stream",
     "text": [
      "ENTER THE VALUE:123\n",
      "ENTER THE VALUE:qwer\n"
     ]
    },
    {
     "ename": "ValueError",
     "evalue": "invalid literal for int() with base 10: 'qwer'",
     "output_type": "error",
     "traceback": [
      "\u001b[1;31m---------------------------------------------------------------------------\u001b[0m",
      "\u001b[1;31mValueError\u001b[0m                                Traceback (most recent call last)",
      "\u001b[1;32m~\\AppData\\Local\\Temp\\ipykernel_10388\\3923183735.py\u001b[0m in \u001b[0;36m<module>\u001b[1;34m\u001b[0m\n\u001b[0;32m      1\u001b[0m \u001b[0mA\u001b[0m \u001b[1;33m=\u001b[0m \u001b[0mint\u001b[0m\u001b[1;33m(\u001b[0m\u001b[0minput\u001b[0m\u001b[1;33m(\u001b[0m\u001b[1;34m'ENTER THE VALUE:'\u001b[0m\u001b[1;33m)\u001b[0m\u001b[1;33m)\u001b[0m\u001b[1;33m\u001b[0m\u001b[1;33m\u001b[0m\u001b[0m\n\u001b[1;32m----> 2\u001b[1;33m \u001b[0mB\u001b[0m \u001b[1;33m=\u001b[0m \u001b[0mint\u001b[0m\u001b[1;33m(\u001b[0m\u001b[0minput\u001b[0m\u001b[1;33m(\u001b[0m\u001b[1;34m'ENTER THE VALUE:'\u001b[0m\u001b[1;33m)\u001b[0m\u001b[1;33m)\u001b[0m\u001b[1;33m\u001b[0m\u001b[1;33m\u001b[0m\u001b[0m\n\u001b[0m\u001b[0;32m      3\u001b[0m \u001b[0mA\u001b[0m\u001b[1;33m/\u001b[0m\u001b[0mB\u001b[0m\u001b[1;33m\u001b[0m\u001b[1;33m\u001b[0m\u001b[0m\n",
      "\u001b[1;31mValueError\u001b[0m: invalid literal for int() with base 10: 'qwer'"
     ]
    }
   ],
   "source": [
    "A = int(input('ENTER THE VALUE:'))\n",
    "B = int(input('ENTER THE VALUE:'))\n",
    "A/B"
   ]
  },
  {
   "cell_type": "code",
   "execution_count": 26,
   "id": "fc3c2d1e",
   "metadata": {},
   "outputs": [
    {
     "name": "stdout",
     "output_type": "stream",
     "text": [
      "ENTER THE VALUE:1213\n",
      "ENTER THE VALUE:gmjf\n",
      "A & B should be Integer\n"
     ]
    }
   ],
   "source": [
    "try:\n",
    "    A = int(input('ENTER THE VALUE:'))\n",
    "    B = int(input('ENTER THE VALUE:'))\n",
    "    print(A/B)\n",
    "\n",
    "except ValueError:\n",
    "    print('A & B should be Integer')"
   ]
  },
  {
   "cell_type": "code",
   "execution_count": 27,
   "id": "62731b35",
   "metadata": {},
   "outputs": [
    {
     "name": "stdout",
     "output_type": "stream",
     "text": [
      "ENTER THE VALUE:12\n",
      "ENTER THE VALUE:y\n"
     ]
    },
    {
     "ename": "ValueError",
     "evalue": "invalid literal for int() with base 10: 'y'",
     "output_type": "error",
     "traceback": [
      "\u001b[1;31m---------------------------------------------------------------------------\u001b[0m",
      "\u001b[1;31mValueError\u001b[0m                                Traceback (most recent call last)",
      "\u001b[1;32m~\\AppData\\Local\\Temp\\ipykernel_10388\\3206661355.py\u001b[0m in \u001b[0;36m<module>\u001b[1;34m\u001b[0m\n\u001b[0;32m      1\u001b[0m \u001b[1;32mtry\u001b[0m\u001b[1;33m:\u001b[0m\u001b[1;33m\u001b[0m\u001b[1;33m\u001b[0m\u001b[0m\n\u001b[0;32m      2\u001b[0m     \u001b[0mA\u001b[0m\u001b[1;33m=\u001b[0m\u001b[0mint\u001b[0m\u001b[1;33m(\u001b[0m\u001b[0minput\u001b[0m\u001b[1;33m(\u001b[0m\u001b[1;34m'ENTER THE VALUE:'\u001b[0m\u001b[1;33m)\u001b[0m\u001b[1;33m)\u001b[0m\u001b[1;33m\u001b[0m\u001b[1;33m\u001b[0m\u001b[0m\n\u001b[1;32m----> 3\u001b[1;33m     \u001b[0mB\u001b[0m\u001b[1;33m=\u001b[0m\u001b[0mint\u001b[0m\u001b[1;33m(\u001b[0m\u001b[0minput\u001b[0m\u001b[1;33m(\u001b[0m\u001b[1;34m'ENTER THE VALUE:'\u001b[0m\u001b[1;33m)\u001b[0m\u001b[1;33m)\u001b[0m\u001b[1;33m\u001b[0m\u001b[1;33m\u001b[0m\u001b[0m\n\u001b[0m\u001b[0;32m      4\u001b[0m     \u001b[0mprint\u001b[0m\u001b[1;33m(\u001b[0m\u001b[0mA\u001b[0m\u001b[1;33m/\u001b[0m\u001b[0mB\u001b[0m\u001b[1;33m)\u001b[0m\u001b[1;33m\u001b[0m\u001b[1;33m\u001b[0m\u001b[0m\n\u001b[0;32m      5\u001b[0m \u001b[1;33m\u001b[0m\u001b[0m\n",
      "\u001b[1;31mValueError\u001b[0m: invalid literal for int() with base 10: 'y'"
     ]
    }
   ],
   "source": [
    "try:\n",
    "    A=int(input('ENTER THE VALUE:'))\n",
    "    B=int(input('ENTER THE VALUE:'))\n",
    "    print(A/B)\n",
    "    \n",
    "except NameError:\n",
    "    print('A & B should be Integer')\n",
    "    "
   ]
  },
  {
   "cell_type": "code",
   "execution_count": 28,
   "id": "5fb9e359",
   "metadata": {},
   "outputs": [
    {
     "name": "stdout",
     "output_type": "stream",
     "text": [
      "ENTER THE VALUE:12\n",
      "ENTER THE VALUE:y\n",
      "A & B should be Integer\n"
     ]
    }
   ],
   "source": [
    "try:\n",
    "    A=int(input('ENTER THE VALUE:'))\n",
    "    B=int(input('ENTER THE VALUE:'))\n",
    "    print(A/B)\n",
    "    \n",
    "except:\n",
    "    print('A & B should be Integer')\n",
    "    "
   ]
  },
  {
   "cell_type": "code",
   "execution_count": 29,
   "id": "7df45fec",
   "metadata": {},
   "outputs": [
    {
     "name": "stdout",
     "output_type": "stream",
     "text": [
      "ENTER THE VALUE:233\n",
      "ENTER THE VALUE:tf\n",
      "A & B SHOULD BE INTEGER\n",
      "ENTER THE VALUE:23\n",
      "ENTER THE VALUE:edf\n",
      "A & B SHOULD BE INTEGER\n",
      "ENTER THE VALUE:23\n",
      "ENTER THE VALUE:22\n",
      "1.0454545454545454\n"
     ]
    }
   ],
   "source": [
    "while True:\n",
    "    try:   \n",
    "        A = int(input('ENTER THE VALUE:'))\n",
    "        B = int(input('ENTER THE VALUE:'))\n",
    "        print(A/B)\n",
    "        break\n",
    "    except ValueError:\n",
    "        print('A & B SHOULD BE INTEGER')"
   ]
  },
  {
   "cell_type": "markdown",
   "id": "f17ed5c7",
   "metadata": {},
   "source": [
    "# 10.Handling Multiple Exceptions"
   ]
  },
  {
   "cell_type": "code",
   "execution_count": 31,
   "id": "d9d26dd9",
   "metadata": {},
   "outputs": [
    {
     "name": "stdout",
     "output_type": "stream",
     "text": [
      "ENTER THE VALUE:1\n",
      "ENTER THE VALUE:s\n",
      "A & B SHOULD BE INTEGER\n",
      "ENTER THE VALUE:3\n",
      "ENTER THE VALUE:0\n",
      "B SHOULD NOT BE ZERO\n",
      "ENTER THE VALUE:1\n",
      "ENTER THE VALUE:2\n",
      "0.5\n"
     ]
    }
   ],
   "source": [
    "while True:    \n",
    "    try:   \n",
    "        A = int(input('ENTER THE VALUE:'))\n",
    "        B = int(input('ENTER THE VALUE:'))\n",
    "        print(A/B)\n",
    "        break\n",
    "    except ValueError:\n",
    "        print('A & B SHOULD BE INTEGER')\n",
    "    except ZeroDivisionError:\n",
    "        print('B SHOULD NOT BE ZERO')"
   ]
  },
  {
   "cell_type": "code",
   "execution_count": 33,
   "id": "b7d6bfee",
   "metadata": {},
   "outputs": [
    {
     "name": "stdout",
     "output_type": "stream",
     "text": [
      "ENTER THE VALUE:223e\n",
      "A & B SHOULD BE INTEGER & B SHOULD NOT BE ZERO\n",
      "ENTER THE VALUE:123\n",
      "ENTER THE VALUE:0\n",
      "A & B SHOULD BE INTEGER & B SHOULD NOT BE ZERO\n",
      "ENTER THE VALUE:123\n",
      "ENTER THE VALUE:34\n",
      "3.6176470588235294\n"
     ]
    }
   ],
   "source": [
    "while True:    \n",
    "    try:   \n",
    "        A = int(input('ENTER THE VALUE:'))\n",
    "        B = int(input('ENTER THE VALUE:'))\n",
    "        print(A/B)\n",
    "        break\n",
    "    except (ValueError,ZeroDivisionError):\n",
    "        print('A & B SHOULD BE INTEGER & B SHOULD NOT BE ZERO')"
   ]
  },
  {
   "cell_type": "markdown",
   "id": "8f8d22c0",
   "metadata": {},
   "source": [
    "# 11.Custom Exceptions"
   ]
  },
  {
   "cell_type": "code",
   "execution_count": 35,
   "id": "70894976",
   "metadata": {},
   "outputs": [
    {
     "name": "stdout",
     "output_type": "stream",
     "text": [
      "2\n",
      "0\n"
     ]
    },
    {
     "ename": "ZeroDenominatorError",
     "evalue": "Denominator should not be Zero",
     "output_type": "error",
     "traceback": [
      "\u001b[1;31m---------------------------------------------------------------------------\u001b[0m",
      "\u001b[1;31mZeroDenominatorError\u001b[0m                      Traceback (most recent call last)",
      "\u001b[1;32m~\\AppData\\Local\\Temp\\ipykernel_10388\\1354695444.py\u001b[0m in \u001b[0;36m<module>\u001b[1;34m\u001b[0m\n\u001b[0;32m      6\u001b[0m         \u001b[0mm\u001b[0m \u001b[1;33m=\u001b[0m \u001b[0mint\u001b[0m\u001b[1;33m(\u001b[0m\u001b[0minput\u001b[0m\u001b[1;33m(\u001b[0m\u001b[1;33m)\u001b[0m\u001b[1;33m)\u001b[0m\u001b[1;33m\u001b[0m\u001b[1;33m\u001b[0m\u001b[0m\n\u001b[0;32m      7\u001b[0m         \u001b[1;32mif\u001b[0m \u001b[0mm\u001b[0m\u001b[1;33m==\u001b[0m\u001b[1;36m0\u001b[0m\u001b[1;33m:\u001b[0m\u001b[1;33m\u001b[0m\u001b[1;33m\u001b[0m\u001b[0m\n\u001b[1;32m----> 8\u001b[1;33m             \u001b[1;32mraise\u001b[0m \u001b[0mZeroDenominatorError\u001b[0m\u001b[1;33m(\u001b[0m\u001b[1;34m'Denominator should not be Zero'\u001b[0m\u001b[1;33m)\u001b[0m\u001b[1;33m\u001b[0m\u001b[1;33m\u001b[0m\u001b[0m\n\u001b[0m\u001b[0;32m      9\u001b[0m         \u001b[0mprint\u001b[0m\u001b[1;33m(\u001b[0m\u001b[0mn\u001b[0m\u001b[1;33m/\u001b[0m\u001b[0mm\u001b[0m\u001b[1;33m)\u001b[0m\u001b[1;33m\u001b[0m\u001b[1;33m\u001b[0m\u001b[0m\n\u001b[0;32m     10\u001b[0m         \u001b[1;32mbreak\u001b[0m\u001b[1;33m\u001b[0m\u001b[1;33m\u001b[0m\u001b[0m\n",
      "\u001b[1;31mZeroDenominatorError\u001b[0m: Denominator should not be Zero"
     ]
    }
   ],
   "source": [
    "class ZeroDenominatorError(Exception):\n",
    "    pass\n",
    "while True:\n",
    "    try:\n",
    "        n = int(input())\n",
    "        m = int(input())\n",
    "        if m==0:\n",
    "            raise ZeroDenominatorError('Denominator should not be Zero')\n",
    "        print(n/m)\n",
    "        break\n",
    "    except ValueError:\n",
    "        print('A & B SHOULD BE INTEGER')\n",
    "    except ZeroDivisionError:\n",
    "        print('B SHOULD NOT BE ZERO')    "
   ]
  },
  {
   "cell_type": "code",
   "execution_count": 36,
   "id": "c6878633",
   "metadata": {},
   "outputs": [
    {
     "name": "stdout",
     "output_type": "stream",
     "text": [
      "2\n",
      "abc\n",
      "A & B SHOULD BE INTEGER\n",
      "1\n",
      "0\n"
     ]
    },
    {
     "ename": "ZeroDenominatorError",
     "evalue": "Denominator should not be Zero",
     "output_type": "error",
     "traceback": [
      "\u001b[1;31m---------------------------------------------------------------------------\u001b[0m",
      "\u001b[1;31mZeroDenominatorError\u001b[0m                      Traceback (most recent call last)",
      "\u001b[1;32m~\\AppData\\Local\\Temp\\ipykernel_10388\\2434836954.py\u001b[0m in \u001b[0;36m<module>\u001b[1;34m\u001b[0m\n\u001b[0;32m      6\u001b[0m         \u001b[0mm\u001b[0m \u001b[1;33m=\u001b[0m \u001b[0mint\u001b[0m\u001b[1;33m(\u001b[0m\u001b[0minput\u001b[0m\u001b[1;33m(\u001b[0m\u001b[1;33m)\u001b[0m\u001b[1;33m)\u001b[0m\u001b[1;33m\u001b[0m\u001b[1;33m\u001b[0m\u001b[0m\n\u001b[0;32m      7\u001b[0m         \u001b[1;32mif\u001b[0m \u001b[0mm\u001b[0m\u001b[1;33m==\u001b[0m\u001b[1;36m0\u001b[0m\u001b[1;33m:\u001b[0m\u001b[1;33m\u001b[0m\u001b[1;33m\u001b[0m\u001b[0m\n\u001b[1;32m----> 8\u001b[1;33m             \u001b[1;32mraise\u001b[0m \u001b[0mZeroDenominatorError\u001b[0m\u001b[1;33m(\u001b[0m\u001b[1;34m'Denominator should not be Zero'\u001b[0m\u001b[1;33m)\u001b[0m\u001b[1;33m\u001b[0m\u001b[1;33m\u001b[0m\u001b[0m\n\u001b[0m\u001b[0;32m      9\u001b[0m         \u001b[0mprint\u001b[0m\u001b[1;33m(\u001b[0m\u001b[0mn\u001b[0m\u001b[1;33m/\u001b[0m\u001b[0mm\u001b[0m\u001b[1;33m)\u001b[0m\u001b[1;33m\u001b[0m\u001b[1;33m\u001b[0m\u001b[0m\n\u001b[0;32m     10\u001b[0m         \u001b[1;32mbreak\u001b[0m\u001b[1;33m\u001b[0m\u001b[1;33m\u001b[0m\u001b[0m\n",
      "\u001b[1;31mZeroDenominatorError\u001b[0m: Denominator should not be Zero"
     ]
    }
   ],
   "source": [
    "class ZeroDenominatorError(Exception):\n",
    "    pass\n",
    "while True:\n",
    "    try:\n",
    "        n = int(input())\n",
    "        m = int(input())\n",
    "        if m==0:\n",
    "            raise ZeroDenominatorError('Denominator should not be Zero')\n",
    "        print(n/m)\n",
    "        break\n",
    "    except ValueError:\n",
    "        print('A & B SHOULD BE INTEGER')\n",
    "    except ZeroDivisionError:\n",
    "        print('B SHOULD NOT BE ZERO') "
   ]
  },
  {
   "cell_type": "markdown",
   "id": "5868434b",
   "metadata": {},
   "source": [
    "# 12.Else And Finally"
   ]
  },
  {
   "cell_type": "code",
   "execution_count": 37,
   "id": "0e057a5b",
   "metadata": {},
   "outputs": [
    {
     "name": "stdout",
     "output_type": "stream",
     "text": [
      "2\n",
      "s\n",
      "A & B SHOULD BE INTEGER\n",
      "2\n",
      "2\n",
      "1.0\n"
     ]
    }
   ],
   "source": [
    "class ZeroDenominatorError(Exception):\n",
    "    pass\n",
    "while True:\n",
    "    try:\n",
    "        n = int(input())\n",
    "        m = int(input())\n",
    "        if m==0:\n",
    "            raise ZeroDenominatorError('Denominator should not be Zero')\n",
    "    except ValueError:\n",
    "        print('A & B SHOULD BE INTEGER')\n",
    "    except ZeroDivisionError:\n",
    "        print('B SHOULD NOT BE ZERO') \n",
    "    else:\n",
    "        print(n/m)\n",
    "        break"
   ]
  },
  {
   "cell_type": "code",
   "execution_count": 38,
   "id": "6f6c19a8",
   "metadata": {},
   "outputs": [
    {
     "name": "stdout",
     "output_type": "stream",
     "text": [
      "2\n",
      "3\n",
      "0.6666666666666666\n",
      "OUTPUT PRINTED\n"
     ]
    }
   ],
   "source": [
    "class ZeroDenominatorError(Exception):\n",
    "    pass\n",
    "while True:\n",
    "    try:\n",
    "        n = int(input())\n",
    "        m = int(input())\n",
    "        if m==0:\n",
    "            raise ZeroDenominatorError('Denominator should not be Zero')\n",
    "    except ValueError:\n",
    "        print('A & B SHOULD BE INTEGER')\n",
    "    except ZeroDivisionError:\n",
    "        print('B SHOULD NOT BE ZERO') \n",
    "    else:\n",
    "        print(n/m)\n",
    "        break\n",
    "    finally:\n",
    "        print('OUTPUT PRINTED')"
   ]
  },
  {
   "cell_type": "code",
   "execution_count": 39,
   "id": "71bbc57e",
   "metadata": {},
   "outputs": [
    {
     "name": "stdout",
     "output_type": "stream",
     "text": [
      "1\n",
      "h\n",
      "A & B SHOULD BE INTEGER\n",
      "1\n",
      "3\n",
      "0.3333333333333333\n",
      "OUTPUT PRINTED\n",
      "1\n",
      "0\n",
      "1\n",
      "0\n"
     ]
    },
    {
     "ename": "ZeroDivisionError",
     "evalue": "division by zero",
     "output_type": "error",
     "traceback": [
      "\u001b[1;31m---------------------------------------------------------------------------\u001b[0m",
      "\u001b[1;31mZeroDenominatorError\u001b[0m                      Traceback (most recent call last)",
      "\u001b[1;32m~\\AppData\\Local\\Temp\\ipykernel_10388\\1936016353.py\u001b[0m in \u001b[0;36m<module>\u001b[1;34m\u001b[0m\n\u001b[0;32m      7\u001b[0m         \u001b[1;32mif\u001b[0m \u001b[0mm\u001b[0m\u001b[1;33m==\u001b[0m\u001b[1;36m0\u001b[0m\u001b[1;33m:\u001b[0m\u001b[1;33m\u001b[0m\u001b[1;33m\u001b[0m\u001b[0m\n\u001b[1;32m----> 8\u001b[1;33m             \u001b[1;32mraise\u001b[0m \u001b[0mZeroDenominatorError\u001b[0m\u001b[1;33m(\u001b[0m\u001b[1;34m'Denominator should not be Zero'\u001b[0m\u001b[1;33m)\u001b[0m\u001b[1;33m\u001b[0m\u001b[1;33m\u001b[0m\u001b[0m\n\u001b[0m\u001b[0;32m      9\u001b[0m     \u001b[1;32mexcept\u001b[0m \u001b[0mValueError\u001b[0m\u001b[1;33m:\u001b[0m\u001b[1;33m\u001b[0m\u001b[1;33m\u001b[0m\u001b[0m\n",
      "\u001b[1;31mZeroDenominatorError\u001b[0m: Denominator should not be Zero",
      "\nDuring handling of the above exception, another exception occurred:\n",
      "\u001b[1;31mZeroDivisionError\u001b[0m                         Traceback (most recent call last)",
      "\u001b[1;32m~\\AppData\\Local\\Temp\\ipykernel_10388\\1936016353.py\u001b[0m in \u001b[0;36m<module>\u001b[1;34m\u001b[0m\n\u001b[0;32m     17\u001b[0m         \u001b[0mprint\u001b[0m\u001b[1;33m(\u001b[0m\u001b[0mn\u001b[0m\u001b[1;33m)\u001b[0m\u001b[1;33m\u001b[0m\u001b[1;33m\u001b[0m\u001b[0m\n\u001b[0;32m     18\u001b[0m         \u001b[0mprint\u001b[0m\u001b[1;33m(\u001b[0m\u001b[0mm\u001b[0m\u001b[1;33m)\u001b[0m\u001b[1;33m\u001b[0m\u001b[1;33m\u001b[0m\u001b[0m\n\u001b[1;32m---> 19\u001b[1;33m         \u001b[0mprint\u001b[0m\u001b[1;33m(\u001b[0m\u001b[0mn\u001b[0m\u001b[1;33m/\u001b[0m\u001b[0mm\u001b[0m\u001b[1;33m)\u001b[0m\u001b[1;33m\u001b[0m\u001b[1;33m\u001b[0m\u001b[0m\n\u001b[0m\u001b[0;32m     20\u001b[0m         \u001b[0mprint\u001b[0m\u001b[1;33m(\u001b[0m\u001b[1;34m'OUTPUT PRINTED'\u001b[0m\u001b[1;33m)\u001b[0m\u001b[1;33m\u001b[0m\u001b[1;33m\u001b[0m\u001b[0m\n\u001b[0;32m     21\u001b[0m \u001b[1;33m\u001b[0m\u001b[0m\n",
      "\u001b[1;31mZeroDivisionError\u001b[0m: division by zero"
     ]
    }
   ],
   "source": [
    "class ZeroDenominatorError(Exception):\n",
    "    pass\n",
    "while True:\n",
    "    try:\n",
    "        n = int(input())\n",
    "        m = int(input())\n",
    "        if m==0:\n",
    "            raise ZeroDenominatorError('Denominator should not be Zero')\n",
    "    except ValueError:\n",
    "        print('A & B SHOULD BE INTEGER')\n",
    "    except ZeroDivisionError:\n",
    "        print('B SHOULD NOT BE ZERO') \n",
    "    else:\n",
    "        print(n/m)\n",
    "        break\n",
    "    finally:\n",
    "        print(n)\n",
    "        print(m)\n",
    "        print(n/m)\n",
    "        print('OUTPUT PRINTED')\n",
    "        "
   ]
  },
  {
   "cell_type": "code",
   "execution_count": null,
   "id": "038a2923",
   "metadata": {},
   "outputs": [],
   "source": []
  },
  {
   "cell_type": "code",
   "execution_count": null,
   "id": "4503d7cc",
   "metadata": {},
   "outputs": [],
   "source": []
  },
  {
   "cell_type": "code",
   "execution_count": null,
   "id": "bf33d298",
   "metadata": {},
   "outputs": [],
   "source": []
  },
  {
   "cell_type": "code",
   "execution_count": null,
   "id": "2984dbe9",
   "metadata": {},
   "outputs": [],
   "source": []
  },
  {
   "cell_type": "code",
   "execution_count": null,
   "id": "2774a2bc",
   "metadata": {},
   "outputs": [],
   "source": []
  },
  {
   "cell_type": "code",
   "execution_count": null,
   "id": "ce19ff6a",
   "metadata": {},
   "outputs": [],
   "source": []
  },
  {
   "cell_type": "code",
   "execution_count": null,
   "id": "22aee688",
   "metadata": {},
   "outputs": [],
   "source": []
  }
 ],
 "metadata": {
  "kernelspec": {
   "display_name": "Python 3 (ipykernel)",
   "language": "python",
   "name": "python3"
  },
  "language_info": {
   "codemirror_mode": {
    "name": "ipython",
    "version": 3
   },
   "file_extension": ".py",
   "mimetype": "text/x-python",
   "name": "python",
   "nbconvert_exporter": "python",
   "pygments_lexer": "ipython3",
   "version": "3.9.13"
  }
 },
 "nbformat": 4,
 "nbformat_minor": 5
}
