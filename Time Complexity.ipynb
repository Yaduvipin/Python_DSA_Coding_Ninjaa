{
 "cells": [
  {
   "cell_type": "markdown",
   "id": "dd7f13a0",
   "metadata": {},
   "source": [
    "# TIME COMPLEXITY ANALYSIS"
   ]
  },
  {
   "cell_type": "code",
   "execution_count": 1,
   "id": "ff1342cc",
   "metadata": {},
   "outputs": [],
   "source": [
    "def merge(a1,a2,a):\n",
    "    i =0\n",
    "    j =0\n",
    "    k =0\n",
    "    while i<len(a1) and j<len(a2):\n",
    "        if a1[i] <a2[j]:\n",
    "            a[k]=a1[i]\n",
    "            k = k+1\n",
    "            i = i+1\n",
    "        else:\n",
    "            a[k]= a2[j]\n",
    "            k = k+1\n",
    "            j = j+1\n",
    "    while i<len(a1):\n",
    "        a[k]= a1[i]\n",
    "        k = k+1\n",
    "        i = i+1\n",
    "    while j<len(a2):\n",
    "        a[k] =a2[j]\n",
    "        k=k+1\n",
    "        j=j+1"
   ]
  },
  {
   "cell_type": "code",
   "execution_count": 2,
   "id": "485f4c99",
   "metadata": {},
   "outputs": [],
   "source": [
    "def mergeSort(a):\n",
    "    if len(a) ==0 or len(a)==1:\n",
    "        return\n",
    "    \n",
    "    mid =len(a)//2\n",
    "    \n",
    "    a1 = a[0:mid]\n",
    "    a2 = a[mid:]\n",
    "    \n",
    "    mergeSort(a1)\n",
    "    mergeSort(a2)\n",
    "    \n",
    "    merge(a1,a2,a)"
   ]
  },
  {
   "cell_type": "code",
   "execution_count": 3,
   "id": "92c2112f",
   "metadata": {},
   "outputs": [],
   "source": [
    "def selectionSort(a):\n",
    "    length = len(a)\n",
    "    for i in range(length-1):\n",
    "        minIndex = i\n",
    "        for j in range(i+1,length):\n",
    "            if (a[j])<a[minIndex]:\n",
    "                minIndex = j\n",
    "            a[i],a[minIndex]= a[minIndex],a[i]"
   ]
  },
  {
   "cell_type": "code",
   "execution_count": 4,
   "id": "1b97da3f",
   "metadata": {},
   "outputs": [],
   "source": [
    "def create_reverse(n):\n",
    "    a = []\n",
    "    for i in range(n,0,-1):\n",
    "        a.append(i)\n",
    "    return a"
   ]
  },
  {
   "cell_type": "code",
   "execution_count": 5,
   "id": "e2ba188a",
   "metadata": {},
   "outputs": [],
   "source": [
    "import time"
   ]
  },
  {
   "cell_type": "code",
   "execution_count": 6,
   "id": "e2dbcfef",
   "metadata": {},
   "outputs": [],
   "source": [
    "n = 10000"
   ]
  },
  {
   "cell_type": "code",
   "execution_count": 7,
   "id": "d0b9c8fe",
   "metadata": {},
   "outputs": [
    {
     "name": "stdout",
     "output_type": "stream",
     "text": [
      "10000 0.12594151496887207\n"
     ]
    }
   ],
   "source": [
    "a = create_reverse(n)\n",
    "start = time.time()\n",
    "mergeSort(a)\n",
    "end = time.time()\n",
    "print(n,end-start)"
   ]
  },
  {
   "cell_type": "code",
   "execution_count": 8,
   "id": "cb188a0d",
   "metadata": {},
   "outputs": [
    {
     "data": {
      "text/plain": [
       "1692623916.9769661"
      ]
     },
     "execution_count": 8,
     "metadata": {},
     "output_type": "execute_result"
    }
   ],
   "source": [
    "import time\n",
    "time.time()\n"
   ]
  },
  {
   "cell_type": "code",
   "execution_count": 11,
   "id": "6fdd94db",
   "metadata": {},
   "outputs": [
    {
     "name": "stdout",
     "output_type": "stream",
     "text": [
      "10000 24.68435263633728\n"
     ]
    }
   ],
   "source": [
    "a = create_reverse(n)\n",
    "start = time.time()\n",
    "selectionSort(a)\n",
    "end = time.time()\n",
    "print(n,end-start)"
   ]
  },
  {
   "cell_type": "markdown",
   "id": "bc4df1ae",
   "metadata": {},
   "source": [
    "# Power Solution"
   ]
  },
  {
   "cell_type": "code",
   "execution_count": 13,
   "id": "b6d817f4",
   "metadata": {},
   "outputs": [
    {
     "name": "stdout",
     "output_type": "stream",
     "text": [
      "5 3\n",
      "125\n"
     ]
    }
   ],
   "source": [
    "def power(x, n):\n",
    "    if n ==0:\n",
    "        return 1\n",
    "    SmallPower = power(x,n//2)\n",
    "    SmallPower*SmallPower\n",
    "    return x**n\n",
    "    \n",
    "\n",
    "from sys import setrecursionlimit\n",
    "setrecursionlimit(11000)\n",
    "x, n=list(int(i) for i in input().strip().split(' '))\n",
    "print(power(x, n))"
   ]
  },
  {
   "cell_type": "code",
   "execution_count": null,
   "id": "4e96c853",
   "metadata": {},
   "outputs": [],
   "source": []
  }
 ],
 "metadata": {
  "kernelspec": {
   "display_name": "Python 3 (ipykernel)",
   "language": "python",
   "name": "python3"
  },
  "language_info": {
   "codemirror_mode": {
    "name": "ipython",
    "version": 3
   },
   "file_extension": ".py",
   "mimetype": "text/x-python",
   "name": "python",
   "nbconvert_exporter": "python",
   "pygments_lexer": "ipython3",
   "version": "3.9.13"
  }
 },
 "nbformat": 4,
 "nbformat_minor": 5
}
